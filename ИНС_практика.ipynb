{
  "nbformat": 4,
  "nbformat_minor": 0,
  "metadata": {
    "colab": {
      "provenance": [],
      "include_colab_link": true
    },
    "kernelspec": {
      "display_name": "Python 3",
      "language": "python",
      "name": "python3"
    },
    "language_info": {
      "codemirror_mode": {
        "name": "ipython",
        "version": 3
      },
      "file_extension": ".py",
      "mimetype": "text/x-python",
      "name": "python",
      "nbconvert_exporter": "python",
      "pygments_lexer": "ipython3",
      "version": "3.6.8"
    }
  },
  "cells": [
    {
      "cell_type": "markdown",
      "metadata": {
        "id": "view-in-github",
        "colab_type": "text"
      },
      "source": [
        "<a href=\"https://colab.research.google.com/github/Just1got/Hello_python/blob/main/%D0%98%D0%9D%D0%A1_%D0%BF%D1%80%D0%B0%D0%BA%D1%82%D0%B8%D0%BA%D0%B0.ipynb\" target=\"_parent\"><img src=\"https://colab.research.google.com/assets/colab-badge.svg\" alt=\"Open In Colab\"/></a>"
      ]
    },
    {
      "cell_type": "markdown",
      "metadata": {
        "id": "y1FWR90xxpSl"
      },
      "source": [
        "# Первая нейронная сеть на Keras\n",
        "\n"
      ]
    },
    {
      "cell_type": "markdown",
      "source": [
        "# Новый раздел"
      ],
      "metadata": {
        "id": "JM67Oqv74cTD"
      }
    },
    {
      "cell_type": "markdown",
      "source": [
        "Сегодня обсудим:\n",
        "1. Как создать нейронную сеть в Keras\n",
        "2. Как обучить нейронную сеть в Keras\n",
        "\n",
        "\n",
        "И сегодня обучим три нейронные сети для решения задач:\n",
        "1. Нейрон для умножения\n",
        "2. Нейросеть для сложения\n",
        "3. Нейросеть для классификации изображений"
      ],
      "metadata": {
        "id": "lsgGTfpbH4-M"
      }
    },
    {
      "cell_type": "markdown",
      "source": [
        "Давайте создадим нейронную сеть, состоящую из одного нейрона.\n",
        "\n",
        "\n",
        "<img src='https://drive.google.com/uc?id=1Qx71h2FmXS6uKHmhcIKtp49G5nqMncWK'>"
      ],
      "metadata": {
        "id": "J2IRbGvlGxbK"
      }
    },
    {
      "cell_type": "markdown",
      "source": [
        "- `Sequential` - это класс последовательности слоев в нейронной сети, у нас пока будет только один слой, но сюда можно добавлять сколь угодно слоев и это будет сеть, состоящая из последовательности слоев. \n",
        "- `Dense` - это класс полносвязного/линейного слоя, все нейроны связаны друг с другом.\n",
        "- `units=1` - это количество нейронов в слое. У нас 1 нейрон.\n",
        "- `input_shape=(1,)` - это входная размерность объекта. У нас только 1 вход.\n",
        "- `activation='relu'` - это функция активации, которая добавляет в слой нелинейности, именно из-за неё мы можем получать более сложные результаты работы сети. "
      ],
      "metadata": {
        "id": "ZctkOCawG3hi"
      }
    },
    {
      "cell_type": "code",
      "source": [
        "from keras.layers import Dense\n",
        "from keras.models import Sequential\n",
        "\n",
        "model = Sequential([\n",
        "    Dense(1, input_shape=(1,), activation='relu')\n",
        "])\n",
        "\n",
        "model.summary()"
      ],
      "metadata": {
        "colab": {
          "base_uri": "https://localhost:8080/"
        },
        "id": "fg5zrnfNG1QN",
        "outputId": "a249885c-542c-4c8a-88d1-7ba14cad302e"
      },
      "execution_count": null,
      "outputs": [
        {
          "output_type": "stream",
          "name": "stdout",
          "text": [
            "Model: \"sequential\"\n",
            "_________________________________________________________________\n",
            " Layer (type)                Output Shape              Param #   \n",
            "=================================================================\n",
            " dense (Dense)               (None, 1)                 2         \n",
            "                                                                 \n",
            "=================================================================\n",
            "Total params: 2\n",
            "Trainable params: 2\n",
            "Non-trainable params: 0\n",
            "_________________________________________________________________\n"
          ]
        }
      ]
    },
    {
      "cell_type": "code",
      "source": [
        "model.get_weights()"
      ],
      "metadata": {
        "colab": {
          "base_uri": "https://localhost:8080/"
        },
        "id": "SEDpFNBmHvcd",
        "outputId": "98e224f0-0140-4c12-f894-63c9adbad31e"
      },
      "execution_count": null,
      "outputs": [
        {
          "output_type": "execute_result",
          "data": {
            "text/plain": [
              "[array([[0.9622096]], dtype=float32), array([0.], dtype=float32)]"
            ]
          },
          "metadata": {},
          "execution_count": 2
        }
      ]
    },
    {
      "cell_type": "markdown",
      "source": [
        "Инициализация весов всегда разная, если её не зафиксировать:\n",
        "\n",
        "\n",
        "\n",
        "```\n",
        "# for reproducible weights initialization\n",
        "import tensorflow as tf\n",
        "tf.random.set_seed(1)\n",
        "```\n",
        "\n"
      ],
      "metadata": {
        "id": "zEKtGvqcGcNn"
      }
    },
    {
      "cell_type": "code",
      "source": [
        "import tensorflow as tf\n",
        "tf.random.set_seed(1)\n",
        "\n",
        "model = Sequential([\n",
        "    Dense(1, input_shape=(1,), activation='relu')\n",
        "])\n",
        "\n",
        "model.get_weights()"
      ],
      "metadata": {
        "colab": {
          "base_uri": "https://localhost:8080/"
        },
        "id": "2AuwJQvyHzEc",
        "outputId": "7734a359-1b9c-42e6-8882-9d93a7f079d7"
      },
      "execution_count": null,
      "outputs": [
        {
          "output_type": "execute_result",
          "data": {
            "text/plain": [
              "[array([[1.6723069]], dtype=float32), array([0.], dtype=float32)]"
            ]
          },
          "metadata": {},
          "execution_count": 3
        }
      ]
    },
    {
      "cell_type": "markdown",
      "source": [
        "## Нейрон для умножения на 3"
      ],
      "metadata": {
        "id": "mfZ3eFidSbo2"
      }
    },
    {
      "cell_type": "markdown",
      "source": [
        "Создадим обучающие данные"
      ],
      "metadata": {
        "id": "d9UDd0y8TbJV"
      }
    },
    {
      "cell_type": "code",
      "source": [
        "import numpy as np\n",
        "\n",
        "X = np.array([[1], [3], [2], [10], [4], [7], [8]])\n",
        "y = np.array([[3, 9, 6, 30, 12, 21, 24]]).T"
      ],
      "metadata": {
        "id": "aMwK0J81-AJ9"
      },
      "execution_count": null,
      "outputs": []
    },
    {
      "cell_type": "markdown",
      "source": [
        "Для того, что обучить нейронную сеть для любой задачи нужно ответить на три вопроса:\n",
        "1. Какая архитектура сети?\n",
        "2. Что оптимизируем?\n",
        "3. Как обучаем?"
      ],
      "metadata": {
        "id": "St5r8CNRWLfZ"
      }
    },
    {
      "cell_type": "markdown",
      "source": [
        "### Какая архитектура сети"
      ],
      "metadata": {
        "id": "0Pq6_oM6WhM5"
      }
    },
    {
      "cell_type": "markdown",
      "source": [
        "Создадим сеть, она очень простая, состоит из одного слоя и одного нейрона.\n",
        "\n",
        "<img src='https://drive.google.com/uc?id=1Qx71h2FmXS6uKHmhcIKtp49G5nqMncWK'>"
      ],
      "metadata": {
        "id": "zPr5AmvYTexL"
      }
    },
    {
      "cell_type": "code",
      "source": [
        "from keras.layers import Dense\n",
        "from keras.models import Sequential\n",
        "\n",
        "model = Sequential([\n",
        "    Dense(1, input_shape=(1,), activation='linear')\n",
        "])\n",
        "\n",
        "model.summary()"
      ],
      "metadata": {
        "colab": {
          "base_uri": "https://localhost:8080/"
        },
        "id": "c6UWgSx29ohw",
        "outputId": "f0c8520e-a3da-460f-8c04-3852bf1d3218"
      },
      "execution_count": null,
      "outputs": [
        {
          "output_type": "stream",
          "name": "stdout",
          "text": [
            "Model: \"sequential_2\"\n",
            "_________________________________________________________________\n",
            " Layer (type)                Output Shape              Param #   \n",
            "=================================================================\n",
            " dense_2 (Dense)             (None, 1)                 2         \n",
            "                                                                 \n",
            "=================================================================\n",
            "Total params: 2\n",
            "Trainable params: 2\n",
            "Non-trainable params: 0\n",
            "_________________________________________________________________\n"
          ]
        }
      ]
    },
    {
      "cell_type": "markdown",
      "source": [
        "Весов у нас выходит две штуки, это вышло из-за того, что для каждого нейрона в линейном слое есть отклонение (bias). На самом деле один нейрон в линейном слое - это линейная регрессия."
      ],
      "metadata": {
        "id": "3CmqQUDHUZHX"
      }
    },
    {
      "cell_type": "code",
      "source": [
        "w1, w0 = model.get_weights()\n",
        "w1, w0"
      ],
      "metadata": {
        "colab": {
          "base_uri": "https://localhost:8080/"
        },
        "id": "-PuvdE1UBybd",
        "outputId": "aede081e-4948-40cf-d1ec-eb58202ce443"
      },
      "execution_count": null,
      "outputs": [
        {
          "output_type": "execute_result",
          "data": {
            "text/plain": [
              "(array([[-1.5629077]], dtype=float32), array([0.], dtype=float32))"
            ]
          },
          "metadata": {},
          "execution_count": 6
        }
      ]
    },
    {
      "cell_type": "markdown",
      "source": [
        "Теперь сделаем предсказание этой моделью на одном объекте. "
      ],
      "metadata": {
        "id": "dggCf3ulVz6Q"
      }
    },
    {
      "cell_type": "code",
      "source": [
        "X[:1]"
      ],
      "metadata": {
        "colab": {
          "base_uri": "https://localhost:8080/"
        },
        "id": "jPPywzv7Efft",
        "outputId": "7883b51d-05bd-48c4-8d9c-e2e3a4f41d2f"
      },
      "execution_count": null,
      "outputs": [
        {
          "output_type": "execute_result",
          "data": {
            "text/plain": [
              "array([[1]])"
            ]
          },
          "metadata": {},
          "execution_count": 7
        }
      ]
    },
    {
      "cell_type": "markdown",
      "source": [
        "Предсказание получается очень далекими от истины, потому что сеть еще не знает, для чего её создали."
      ],
      "metadata": {
        "id": "kuozFM1FV4p4"
      }
    },
    {
      "cell_type": "code",
      "source": [
        "model.predict(X[:1])"
      ],
      "metadata": {
        "colab": {
          "base_uri": "https://localhost:8080/"
        },
        "id": "t3LOGp6aB7re",
        "outputId": "146351cd-bdf9-4612-c626-e5b51f665e27"
      },
      "execution_count": null,
      "outputs": [
        {
          "output_type": "stream",
          "name": "stdout",
          "text": [
            "1/1 [==============================] - 0s 109ms/step\n"
          ]
        },
        {
          "output_type": "execute_result",
          "data": {
            "text/plain": [
              "array([[-1.5629077]], dtype=float32)"
            ]
          },
          "metadata": {},
          "execution_count": 8
        }
      ]
    },
    {
      "cell_type": "code",
      "source": [
        "w1 * X[:1] + w0"
      ],
      "metadata": {
        "colab": {
          "base_uri": "https://localhost:8080/"
        },
        "id": "bGLbADogCGHa",
        "outputId": "574ede47-2710-45b1-f85f-c774d7517f42"
      },
      "execution_count": null,
      "outputs": [
        {
          "output_type": "execute_result",
          "data": {
            "text/plain": [
              "array([[-1.5629077]])"
            ]
          },
          "metadata": {},
          "execution_count": 9
        }
      ]
    },
    {
      "cell_type": "code",
      "source": [
        "from keras.activations import linear\n",
        "linear(w1 * X[:1] + w0)"
      ],
      "metadata": {
        "colab": {
          "base_uri": "https://localhost:8080/"
        },
        "id": "m5czkuSECNEi",
        "outputId": "8f508362-636b-482a-946a-2cc713802004"
      },
      "execution_count": null,
      "outputs": [
        {
          "output_type": "execute_result",
          "data": {
            "text/plain": [
              "array([[-1.5629077]])"
            ]
          },
          "metadata": {},
          "execution_count": 10
        }
      ]
    },
    {
      "cell_type": "markdown",
      "source": [
        "### Что оптимизируем\n",
        "\n",
        "У нас задача регрессии, поэтому будем брать функцию потерь для этой задачи, к примеру MSE.\n",
        "\n",
        "Вдобавок можно взять еще и метрику, которую будем считать и понимать, обучается ли сеть.\n"
      ],
      "metadata": {
        "id": "JbFIQGjDWGbM"
      }
    },
    {
      "cell_type": "markdown",
      "source": [
        "### Как оптимизируем\n",
        "\n",
        "Про этот вопрос будем более подробно говорить в следующих занятиях, но пока условимся, что оптимизатор помогает ошибке быстрее уменьшаться, а значит помогает сеть быстрее обучаться.\n",
        "\n",
        "Есть несколько видов оптимизаторов, тот же градиентный спуск - это один из методов оптимизации для нейронной сети."
      ],
      "metadata": {
        "id": "3M3OUOvZXMXV"
      }
    },
    {
      "cell_type": "code",
      "source": [
        "model.compile(optimizer='sgd', loss='mse', metrics='mae')"
      ],
      "metadata": {
        "id": "L_ywc5J7-0r3"
      },
      "execution_count": null,
      "outputs": []
    },
    {
      "cell_type": "code",
      "source": [
        "%%time\n",
        "model.fit(X, y, epochs=100)"
      ],
      "metadata": {
        "colab": {
          "base_uri": "https://localhost:8080/"
        },
        "id": "x6yykPl4-2MQ",
        "outputId": "9ad99e93-576b-44f8-95ed-c2a4e09b40e0"
      },
      "execution_count": null,
      "outputs": [
        {
          "output_type": "stream",
          "name": "stdout",
          "text": [
            "Epoch 1/100\n",
            "1/1 [==============================] - 0s 335ms/step - loss: 687.1224 - mae: 22.2171\n",
            "Epoch 2/100\n",
            "1/1 [==============================] - 0s 13ms/step - loss: 58.4004 - mae: 6.3284\n",
            "Epoch 3/100\n",
            "1/1 [==============================] - 0s 9ms/step - loss: 5.0862 - mae: 1.7584\n",
            "Epoch 4/100\n",
            "1/1 [==============================] - 0s 13ms/step - loss: 0.5640 - mae: 0.5964\n",
            "Epoch 5/100\n",
            "1/1 [==============================] - 0s 10ms/step - loss: 0.1791 - mae: 0.3916\n",
            "Epoch 6/100\n",
            "1/1 [==============================] - 0s 10ms/step - loss: 0.1450 - mae: 0.3427\n",
            "Epoch 7/100\n",
            "1/1 [==============================] - 0s 12ms/step - loss: 0.1407 - mae: 0.3272\n",
            "Epoch 8/100\n",
            "1/1 [==============================] - 0s 18ms/step - loss: 0.1389 - mae: 0.3214\n",
            "Epoch 9/100\n",
            "1/1 [==============================] - 0s 12ms/step - loss: 0.1374 - mae: 0.3185\n",
            "Epoch 10/100\n",
            "1/1 [==============================] - 0s 11ms/step - loss: 0.1359 - mae: 0.3164\n",
            "Epoch 11/100\n",
            "1/1 [==============================] - 0s 12ms/step - loss: 0.1344 - mae: 0.3146\n",
            "Epoch 12/100\n",
            "1/1 [==============================] - 0s 9ms/step - loss: 0.1329 - mae: 0.3129\n",
            "Epoch 13/100\n",
            "1/1 [==============================] - 0s 9ms/step - loss: 0.1315 - mae: 0.3111\n",
            "Epoch 14/100\n",
            "1/1 [==============================] - 0s 10ms/step - loss: 0.1300 - mae: 0.3094\n",
            "Epoch 15/100\n",
            "1/1 [==============================] - 0s 10ms/step - loss: 0.1286 - mae: 0.3077\n",
            "Epoch 16/100\n",
            "1/1 [==============================] - 0s 14ms/step - loss: 0.1272 - mae: 0.3060\n",
            "Epoch 17/100\n",
            "1/1 [==============================] - 0s 11ms/step - loss: 0.1258 - mae: 0.3044\n",
            "Epoch 18/100\n",
            "1/1 [==============================] - 0s 10ms/step - loss: 0.1244 - mae: 0.3027\n",
            "Epoch 19/100\n",
            "1/1 [==============================] - 0s 10ms/step - loss: 0.1231 - mae: 0.3010\n",
            "Epoch 20/100\n",
            "1/1 [==============================] - 0s 10ms/step - loss: 0.1217 - mae: 0.2994\n",
            "Epoch 21/100\n",
            "1/1 [==============================] - 0s 10ms/step - loss: 0.1204 - mae: 0.2977\n",
            "Epoch 22/100\n",
            "1/1 [==============================] - 0s 10ms/step - loss: 0.1191 - mae: 0.2961\n",
            "Epoch 23/100\n",
            "1/1 [==============================] - 0s 9ms/step - loss: 0.1178 - mae: 0.2945\n",
            "Epoch 24/100\n",
            "1/1 [==============================] - 0s 14ms/step - loss: 0.1165 - mae: 0.2929\n",
            "Epoch 25/100\n",
            "1/1 [==============================] - 0s 9ms/step - loss: 0.1152 - mae: 0.2913\n",
            "Epoch 26/100\n",
            "1/1 [==============================] - 0s 10ms/step - loss: 0.1140 - mae: 0.2897\n",
            "Epoch 27/100\n",
            "1/1 [==============================] - 0s 9ms/step - loss: 0.1127 - mae: 0.2881\n",
            "Epoch 28/100\n",
            "1/1 [==============================] - 0s 9ms/step - loss: 0.1115 - mae: 0.2865\n",
            "Epoch 29/100\n",
            "1/1 [==============================] - 0s 12ms/step - loss: 0.1103 - mae: 0.2849\n",
            "Epoch 30/100\n",
            "1/1 [==============================] - 0s 12ms/step - loss: 0.1091 - mae: 0.2834\n",
            "Epoch 31/100\n",
            "1/1 [==============================] - 0s 12ms/step - loss: 0.1079 - mae: 0.2818\n",
            "Epoch 32/100\n",
            "1/1 [==============================] - 0s 10ms/step - loss: 0.1067 - mae: 0.2803\n",
            "Epoch 33/100\n",
            "1/1 [==============================] - 0s 10ms/step - loss: 0.1055 - mae: 0.2787\n",
            "Epoch 34/100\n",
            "1/1 [==============================] - 0s 10ms/step - loss: 0.1044 - mae: 0.2772\n",
            "Epoch 35/100\n",
            "1/1 [==============================] - 0s 10ms/step - loss: 0.1032 - mae: 0.2757\n",
            "Epoch 36/100\n",
            "1/1 [==============================] - 0s 9ms/step - loss: 0.1021 - mae: 0.2742\n",
            "Epoch 37/100\n",
            "1/1 [==============================] - 0s 9ms/step - loss: 0.1010 - mae: 0.2727\n",
            "Epoch 38/100\n",
            "1/1 [==============================] - 0s 9ms/step - loss: 0.0999 - mae: 0.2712\n",
            "Epoch 39/100\n",
            "1/1 [==============================] - 0s 9ms/step - loss: 0.0988 - mae: 0.2697\n",
            "Epoch 40/100\n",
            "1/1 [==============================] - 0s 9ms/step - loss: 0.0977 - mae: 0.2682\n",
            "Epoch 41/100\n",
            "1/1 [==============================] - 0s 10ms/step - loss: 0.0966 - mae: 0.2667\n",
            "Epoch 42/100\n",
            "1/1 [==============================] - 0s 9ms/step - loss: 0.0956 - mae: 0.2653\n",
            "Epoch 43/100\n",
            "1/1 [==============================] - 0s 9ms/step - loss: 0.0945 - mae: 0.2638\n",
            "Epoch 44/100\n",
            "1/1 [==============================] - 0s 9ms/step - loss: 0.0935 - mae: 0.2624\n",
            "Epoch 45/100\n",
            "1/1 [==============================] - 0s 9ms/step - loss: 0.0925 - mae: 0.2609\n",
            "Epoch 46/100\n",
            "1/1 [==============================] - 0s 9ms/step - loss: 0.0915 - mae: 0.2595\n",
            "Epoch 47/100\n",
            "1/1 [==============================] - 0s 9ms/step - loss: 0.0905 - mae: 0.2581\n",
            "Epoch 48/100\n",
            "1/1 [==============================] - 0s 9ms/step - loss: 0.0895 - mae: 0.2567\n",
            "Epoch 49/100\n",
            "1/1 [==============================] - 0s 9ms/step - loss: 0.0885 - mae: 0.2553\n",
            "Epoch 50/100\n",
            "1/1 [==============================] - 0s 10ms/step - loss: 0.0875 - mae: 0.2539\n",
            "Epoch 51/100\n",
            "1/1 [==============================] - 0s 10ms/step - loss: 0.0866 - mae: 0.2525\n",
            "Epoch 52/100\n",
            "1/1 [==============================] - 0s 9ms/step - loss: 0.0856 - mae: 0.2511\n",
            "Epoch 53/100\n",
            "1/1 [==============================] - 0s 9ms/step - loss: 0.0847 - mae: 0.2497\n",
            "Epoch 54/100\n",
            "1/1 [==============================] - 0s 9ms/step - loss: 0.0838 - mae: 0.2483\n",
            "Epoch 55/100\n",
            "1/1 [==============================] - 0s 9ms/step - loss: 0.0828 - mae: 0.2470\n",
            "Epoch 56/100\n",
            "1/1 [==============================] - 0s 9ms/step - loss: 0.0819 - mae: 0.2456\n",
            "Epoch 57/100\n",
            "1/1 [==============================] - 0s 8ms/step - loss: 0.0810 - mae: 0.2443\n",
            "Epoch 58/100\n",
            "1/1 [==============================] - 0s 9ms/step - loss: 0.0802 - mae: 0.2429\n",
            "Epoch 59/100\n",
            "1/1 [==============================] - 0s 9ms/step - loss: 0.0793 - mae: 0.2416\n",
            "Epoch 60/100\n",
            "1/1 [==============================] - 0s 10ms/step - loss: 0.0784 - mae: 0.2403\n",
            "Epoch 61/100\n",
            "1/1 [==============================] - 0s 11ms/step - loss: 0.0776 - mae: 0.2390\n",
            "Epoch 62/100\n",
            "1/1 [==============================] - 0s 10ms/step - loss: 0.0767 - mae: 0.2377\n",
            "Epoch 63/100\n",
            "1/1 [==============================] - 0s 10ms/step - loss: 0.0759 - mae: 0.2364\n",
            "Epoch 64/100\n",
            "1/1 [==============================] - 0s 11ms/step - loss: 0.0750 - mae: 0.2351\n",
            "Epoch 65/100\n",
            "1/1 [==============================] - 0s 11ms/step - loss: 0.0742 - mae: 0.2338\n",
            "Epoch 66/100\n",
            "1/1 [==============================] - 0s 11ms/step - loss: 0.0734 - mae: 0.2325\n",
            "Epoch 67/100\n",
            "1/1 [==============================] - 0s 11ms/step - loss: 0.0726 - mae: 0.2312\n",
            "Epoch 68/100\n",
            "1/1 [==============================] - 0s 11ms/step - loss: 0.0718 - mae: 0.2299\n",
            "Epoch 69/100\n",
            "1/1 [==============================] - 0s 11ms/step - loss: 0.0710 - mae: 0.2287\n",
            "Epoch 70/100\n",
            "1/1 [==============================] - 0s 10ms/step - loss: 0.0703 - mae: 0.2274\n",
            "Epoch 71/100\n",
            "1/1 [==============================] - 0s 10ms/step - loss: 0.0695 - mae: 0.2262\n",
            "Epoch 72/100\n",
            "1/1 [==============================] - 0s 10ms/step - loss: 0.0687 - mae: 0.2249\n",
            "Epoch 73/100\n",
            "1/1 [==============================] - 0s 10ms/step - loss: 0.0680 - mae: 0.2237\n",
            "Epoch 74/100\n",
            "1/1 [==============================] - 0s 11ms/step - loss: 0.0672 - mae: 0.2225\n",
            "Epoch 75/100\n",
            "1/1 [==============================] - 0s 11ms/step - loss: 0.0665 - mae: 0.2213\n",
            "Epoch 76/100\n",
            "1/1 [==============================] - 0s 11ms/step - loss: 0.0658 - mae: 0.2201\n",
            "Epoch 77/100\n",
            "1/1 [==============================] - 0s 11ms/step - loss: 0.0650 - mae: 0.2188\n",
            "Epoch 78/100\n",
            "1/1 [==============================] - 0s 11ms/step - loss: 0.0643 - mae: 0.2176\n",
            "Epoch 79/100\n",
            "1/1 [==============================] - 0s 11ms/step - loss: 0.0636 - mae: 0.2165\n",
            "Epoch 80/100\n",
            "1/1 [==============================] - 0s 11ms/step - loss: 0.0629 - mae: 0.2153\n",
            "Epoch 81/100\n",
            "1/1 [==============================] - 0s 11ms/step - loss: 0.0622 - mae: 0.2141\n",
            "Epoch 82/100\n",
            "1/1 [==============================] - 0s 11ms/step - loss: 0.0616 - mae: 0.2129\n",
            "Epoch 83/100\n",
            "1/1 [==============================] - 0s 11ms/step - loss: 0.0609 - mae: 0.2117\n",
            "Epoch 84/100\n",
            "1/1 [==============================] - 0s 10ms/step - loss: 0.0602 - mae: 0.2106\n",
            "Epoch 85/100\n",
            "1/1 [==============================] - 0s 10ms/step - loss: 0.0596 - mae: 0.2094\n",
            "Epoch 86/100\n",
            "1/1 [==============================] - 0s 10ms/step - loss: 0.0589 - mae: 0.2083\n",
            "Epoch 87/100\n",
            "1/1 [==============================] - 0s 10ms/step - loss: 0.0583 - mae: 0.2071\n",
            "Epoch 88/100\n",
            "1/1 [==============================] - 0s 11ms/step - loss: 0.0576 - mae: 0.2060\n",
            "Epoch 89/100\n",
            "1/1 [==============================] - 0s 11ms/step - loss: 0.0570 - mae: 0.2049\n",
            "Epoch 90/100\n",
            "1/1 [==============================] - 0s 10ms/step - loss: 0.0564 - mae: 0.2038\n",
            "Epoch 91/100\n",
            "1/1 [==============================] - 0s 9ms/step - loss: 0.0558 - mae: 0.2026\n",
            "Epoch 92/100\n",
            "1/1 [==============================] - 0s 12ms/step - loss: 0.0552 - mae: 0.2015\n",
            "Epoch 93/100\n",
            "1/1 [==============================] - 0s 10ms/step - loss: 0.0546 - mae: 0.2004\n",
            "Epoch 94/100\n",
            "1/1 [==============================] - 0s 9ms/step - loss: 0.0540 - mae: 0.1993\n",
            "Epoch 95/100\n",
            "1/1 [==============================] - 0s 10ms/step - loss: 0.0534 - mae: 0.1982\n",
            "Epoch 96/100\n",
            "1/1 [==============================] - 0s 10ms/step - loss: 0.0528 - mae: 0.1971\n",
            "Epoch 97/100\n",
            "1/1 [==============================] - 0s 14ms/step - loss: 0.0522 - mae: 0.1961\n",
            "Epoch 98/100\n",
            "1/1 [==============================] - 0s 11ms/step - loss: 0.0516 - mae: 0.1950\n",
            "Epoch 99/100\n",
            "1/1 [==============================] - 0s 10ms/step - loss: 0.0511 - mae: 0.1939\n",
            "Epoch 100/100\n",
            "1/1 [==============================] - 0s 9ms/step - loss: 0.0505 - mae: 0.1929\n",
            "CPU times: user 1.77 s, sys: 59.7 ms, total: 1.83 s\n",
            "Wall time: 1.87 s\n"
          ]
        },
        {
          "output_type": "execute_result",
          "data": {
            "text/plain": [
              "<keras.callbacks.History at 0x7f2a6b539610>"
            ]
          },
          "metadata": {},
          "execution_count": 15
        }
      ]
    },
    {
      "cell_type": "markdown",
      "source": [
        "Сеть обучается, ошибка падает, метрика становится лучше, всё замечательно.\n",
        "\n",
        "Теперь проверим, а как модель работает на новых данных."
      ],
      "metadata": {
        "id": "gbROlNn-YJOz"
      }
    },
    {
      "cell_type": "code",
      "source": [
        "user_inp1, user_inp2 = 5, -9\n",
        "print(f\"Проверка на новых данных: {user_inp1} {user_inp2}\")\n",
        "print(\"Предсказание нейронной сети: \")\n",
        "print(model.predict(np.array([[user_inp1], [user_inp2]])))"
      ],
      "metadata": {
        "colab": {
          "base_uri": "https://localhost:8080/"
        },
        "id": "6hW87IUF_I-e",
        "outputId": "87390ad0-13ce-46a9-c7f9-9d1a2db6e7fb"
      },
      "execution_count": null,
      "outputs": [
        {
          "output_type": "stream",
          "name": "stdout",
          "text": [
            "Проверка на новых данных: 5 -9\n",
            "Предсказание нейронной сети: \n",
            "1/1 [==============================] - 0s 52ms/step\n",
            "[[ 15.11581 ]\n",
            " [-26.025436]]\n"
          ]
        }
      ]
    },
    {
      "cell_type": "markdown",
      "source": [
        "Предсказания очень похожи на истину."
      ],
      "metadata": {
        "id": "wQqMjMcEYPcE"
      }
    },
    {
      "cell_type": "markdown",
      "source": [
        "Еще можем посмотреть, как поменялись наши веса после обучения."
      ],
      "metadata": {
        "id": "3jBXtePgYXpT"
      }
    },
    {
      "cell_type": "code",
      "source": [
        "nw1, nw0 = model.get_weights()\n",
        "print('w1 before', w1, 'w1 after', nw1)\n",
        "print('w0 before', w0, 'w0 after', nw0)"
      ],
      "metadata": {
        "colab": {
          "base_uri": "https://localhost:8080/"
        },
        "id": "_-n4M6tdE57C",
        "outputId": "6cc93079-496b-44d2-9410-174aba88e09c"
      },
      "execution_count": null,
      "outputs": [
        {
          "output_type": "stream",
          "name": "stdout",
          "text": [
            "w1 before [[-1.5629077]] w1 after [[2.9386606]]\n",
            "w0 before [0.] w0 after [0.42250738]\n"
          ]
        }
      ]
    },
    {
      "cell_type": "markdown",
      "source": [
        "И проверимся на всех обучающих данных."
      ],
      "metadata": {
        "id": "1s7-Pw6eYcOi"
      }
    },
    {
      "cell_type": "code",
      "source": [
        "import pandas as pd\n",
        "\n",
        "pd.DataFrame({\n",
        "   'true': np.squeeze(y),\n",
        "   'pred': np.squeeze(model.predict(X))\n",
        "})"
      ],
      "metadata": {
        "colab": {
          "base_uri": "https://localhost:8080/",
          "height": 287
        },
        "id": "-t3MsXSIF6T1",
        "outputId": "b3bad99c-0eba-46c4-a7ba-076a1f50bb60"
      },
      "execution_count": null,
      "outputs": [
        {
          "output_type": "stream",
          "name": "stdout",
          "text": [
            "1/1 [==============================] - 0s 32ms/step\n"
          ]
        },
        {
          "output_type": "execute_result",
          "data": {
            "text/plain": [
              "   true       pred\n",
              "0     3   3.361168\n",
              "1     9   9.238489\n",
              "2     6   6.299829\n",
              "3    30  29.809114\n",
              "4    12  12.177150\n",
              "5    21  20.993134\n",
              "6    24  23.931793"
            ],
            "text/html": [
              "\n",
              "  <div id=\"df-27d4b7ca-2ab9-4223-988f-3dc00a88e1be\">\n",
              "    <div class=\"colab-df-container\">\n",
              "      <div>\n",
              "<style scoped>\n",
              "    .dataframe tbody tr th:only-of-type {\n",
              "        vertical-align: middle;\n",
              "    }\n",
              "\n",
              "    .dataframe tbody tr th {\n",
              "        vertical-align: top;\n",
              "    }\n",
              "\n",
              "    .dataframe thead th {\n",
              "        text-align: right;\n",
              "    }\n",
              "</style>\n",
              "<table border=\"1\" class=\"dataframe\">\n",
              "  <thead>\n",
              "    <tr style=\"text-align: right;\">\n",
              "      <th></th>\n",
              "      <th>true</th>\n",
              "      <th>pred</th>\n",
              "    </tr>\n",
              "  </thead>\n",
              "  <tbody>\n",
              "    <tr>\n",
              "      <th>0</th>\n",
              "      <td>3</td>\n",
              "      <td>3.361168</td>\n",
              "    </tr>\n",
              "    <tr>\n",
              "      <th>1</th>\n",
              "      <td>9</td>\n",
              "      <td>9.238489</td>\n",
              "    </tr>\n",
              "    <tr>\n",
              "      <th>2</th>\n",
              "      <td>6</td>\n",
              "      <td>6.299829</td>\n",
              "    </tr>\n",
              "    <tr>\n",
              "      <th>3</th>\n",
              "      <td>30</td>\n",
              "      <td>29.809114</td>\n",
              "    </tr>\n",
              "    <tr>\n",
              "      <th>4</th>\n",
              "      <td>12</td>\n",
              "      <td>12.177150</td>\n",
              "    </tr>\n",
              "    <tr>\n",
              "      <th>5</th>\n",
              "      <td>21</td>\n",
              "      <td>20.993134</td>\n",
              "    </tr>\n",
              "    <tr>\n",
              "      <th>6</th>\n",
              "      <td>24</td>\n",
              "      <td>23.931793</td>\n",
              "    </tr>\n",
              "  </tbody>\n",
              "</table>\n",
              "</div>\n",
              "      <button class=\"colab-df-convert\" onclick=\"convertToInteractive('df-27d4b7ca-2ab9-4223-988f-3dc00a88e1be')\"\n",
              "              title=\"Convert this dataframe to an interactive table.\"\n",
              "              style=\"display:none;\">\n",
              "        \n",
              "  <svg xmlns=\"http://www.w3.org/2000/svg\" height=\"24px\"viewBox=\"0 0 24 24\"\n",
              "       width=\"24px\">\n",
              "    <path d=\"M0 0h24v24H0V0z\" fill=\"none\"/>\n",
              "    <path d=\"M18.56 5.44l.94 2.06.94-2.06 2.06-.94-2.06-.94-.94-2.06-.94 2.06-2.06.94zm-11 1L8.5 8.5l.94-2.06 2.06-.94-2.06-.94L8.5 2.5l-.94 2.06-2.06.94zm10 10l.94 2.06.94-2.06 2.06-.94-2.06-.94-.94-2.06-.94 2.06-2.06.94z\"/><path d=\"M17.41 7.96l-1.37-1.37c-.4-.4-.92-.59-1.43-.59-.52 0-1.04.2-1.43.59L10.3 9.45l-7.72 7.72c-.78.78-.78 2.05 0 2.83L4 21.41c.39.39.9.59 1.41.59.51 0 1.02-.2 1.41-.59l7.78-7.78 2.81-2.81c.8-.78.8-2.07 0-2.86zM5.41 20L4 18.59l7.72-7.72 1.47 1.35L5.41 20z\"/>\n",
              "  </svg>\n",
              "      </button>\n",
              "      \n",
              "  <style>\n",
              "    .colab-df-container {\n",
              "      display:flex;\n",
              "      flex-wrap:wrap;\n",
              "      gap: 12px;\n",
              "    }\n",
              "\n",
              "    .colab-df-convert {\n",
              "      background-color: #E8F0FE;\n",
              "      border: none;\n",
              "      border-radius: 50%;\n",
              "      cursor: pointer;\n",
              "      display: none;\n",
              "      fill: #1967D2;\n",
              "      height: 32px;\n",
              "      padding: 0 0 0 0;\n",
              "      width: 32px;\n",
              "    }\n",
              "\n",
              "    .colab-df-convert:hover {\n",
              "      background-color: #E2EBFA;\n",
              "      box-shadow: 0px 1px 2px rgba(60, 64, 67, 0.3), 0px 1px 3px 1px rgba(60, 64, 67, 0.15);\n",
              "      fill: #174EA6;\n",
              "    }\n",
              "\n",
              "    [theme=dark] .colab-df-convert {\n",
              "      background-color: #3B4455;\n",
              "      fill: #D2E3FC;\n",
              "    }\n",
              "\n",
              "    [theme=dark] .colab-df-convert:hover {\n",
              "      background-color: #434B5C;\n",
              "      box-shadow: 0px 1px 3px 1px rgba(0, 0, 0, 0.15);\n",
              "      filter: drop-shadow(0px 1px 2px rgba(0, 0, 0, 0.3));\n",
              "      fill: #FFFFFF;\n",
              "    }\n",
              "  </style>\n",
              "\n",
              "      <script>\n",
              "        const buttonEl =\n",
              "          document.querySelector('#df-27d4b7ca-2ab9-4223-988f-3dc00a88e1be button.colab-df-convert');\n",
              "        buttonEl.style.display =\n",
              "          google.colab.kernel.accessAllowed ? 'block' : 'none';\n",
              "\n",
              "        async function convertToInteractive(key) {\n",
              "          const element = document.querySelector('#df-27d4b7ca-2ab9-4223-988f-3dc00a88e1be');\n",
              "          const dataTable =\n",
              "            await google.colab.kernel.invokeFunction('convertToInteractive',\n",
              "                                                     [key], {});\n",
              "          if (!dataTable) return;\n",
              "\n",
              "          const docLinkHtml = 'Like what you see? Visit the ' +\n",
              "            '<a target=\"_blank\" href=https://colab.research.google.com/notebooks/data_table.ipynb>data table notebook</a>'\n",
              "            + ' to learn more about interactive tables.';\n",
              "          element.innerHTML = '';\n",
              "          dataTable['output_type'] = 'display_data';\n",
              "          await google.colab.output.renderOutput(dataTable, element);\n",
              "          const docLink = document.createElement('div');\n",
              "          docLink.innerHTML = docLinkHtml;\n",
              "          element.appendChild(docLink);\n",
              "        }\n",
              "      </script>\n",
              "    </div>\n",
              "  </div>\n",
              "  "
            ]
          },
          "metadata": {},
          "execution_count": 18
        }
      ]
    },
    {
      "cell_type": "markdown",
      "source": [
        "## Сеть для сложения чисел"
      ],
      "metadata": {
        "id": "560b4MkNbqhg"
      }
    },
    {
      "cell_type": "markdown",
      "source": [
        "Создадим обучающие данные"
      ],
      "metadata": {
        "id": "1-ZItmaIbqhs"
      }
    },
    {
      "cell_type": "code",
      "source": [
        "X1 = np.random.randint(1, 10, size=50)\n",
        "X2 = np.random.randint(1, 10, size=50)\n",
        "\n",
        "y = X1 + X2"
      ],
      "metadata": {
        "id": "zjNa5uVDb5w9"
      },
      "execution_count": null,
      "outputs": []
    },
    {
      "cell_type": "code",
      "source": [
        "X = np.vstack([X1, X2]).T\n",
        "X"
      ],
      "metadata": {
        "colab": {
          "base_uri": "https://localhost:8080/"
        },
        "id": "Jt5efryQcHql",
        "outputId": "e05fc3c7-9c12-4bdb-a1c6-3aa81a7c36a0"
      },
      "execution_count": null,
      "outputs": [
        {
          "output_type": "execute_result",
          "data": {
            "text/plain": [
              "array([[6, 8],\n",
              "       [9, 7],\n",
              "       [6, 8],\n",
              "       [1, 8],\n",
              "       [4, 3],\n",
              "       [3, 5],\n",
              "       [9, 3],\n",
              "       [1, 4],\n",
              "       [6, 9],\n",
              "       [4, 9],\n",
              "       [9, 1],\n",
              "       [9, 5],\n",
              "       [3, 2],\n",
              "       [8, 6],\n",
              "       [1, 5],\n",
              "       [7, 1],\n",
              "       [1, 3],\n",
              "       [5, 6],\n",
              "       [3, 1],\n",
              "       [4, 6],\n",
              "       [6, 3],\n",
              "       [9, 9],\n",
              "       [8, 5],\n",
              "       [5, 9],\n",
              "       [1, 7],\n",
              "       [9, 9],\n",
              "       [5, 1],\n",
              "       [1, 5],\n",
              "       [9, 8],\n",
              "       [2, 9],\n",
              "       [1, 8],\n",
              "       [1, 9],\n",
              "       [7, 8],\n",
              "       [5, 5],\n",
              "       [1, 7],\n",
              "       [1, 8],\n",
              "       [7, 8],\n",
              "       [2, 8],\n",
              "       [1, 2],\n",
              "       [3, 3],\n",
              "       [8, 4],\n",
              "       [4, 7],\n",
              "       [7, 3],\n",
              "       [3, 2],\n",
              "       [9, 7],\n",
              "       [8, 9],\n",
              "       [7, 5],\n",
              "       [4, 7],\n",
              "       [2, 3],\n",
              "       [7, 4]])"
            ]
          },
          "metadata": {},
          "execution_count": 20
        }
      ]
    },
    {
      "cell_type": "code",
      "source": [
        "y = y[None]\n",
        "y = y.T\n",
        "y"
      ],
      "metadata": {
        "colab": {
          "base_uri": "https://localhost:8080/"
        },
        "id": "yuvCsiuochWf",
        "outputId": "a70655f9-8be6-45aa-f99f-7d61c85e0dfe"
      },
      "execution_count": null,
      "outputs": [
        {
          "output_type": "execute_result",
          "data": {
            "text/plain": [
              "array([[14],\n",
              "       [16],\n",
              "       [14],\n",
              "       [ 9],\n",
              "       [ 7],\n",
              "       [ 8],\n",
              "       [12],\n",
              "       [ 5],\n",
              "       [15],\n",
              "       [13],\n",
              "       [10],\n",
              "       [14],\n",
              "       [ 5],\n",
              "       [14],\n",
              "       [ 6],\n",
              "       [ 8],\n",
              "       [ 4],\n",
              "       [11],\n",
              "       [ 4],\n",
              "       [10],\n",
              "       [ 9],\n",
              "       [18],\n",
              "       [13],\n",
              "       [14],\n",
              "       [ 8],\n",
              "       [18],\n",
              "       [ 6],\n",
              "       [ 6],\n",
              "       [17],\n",
              "       [11],\n",
              "       [ 9],\n",
              "       [10],\n",
              "       [15],\n",
              "       [10],\n",
              "       [ 8],\n",
              "       [ 9],\n",
              "       [15],\n",
              "       [10],\n",
              "       [ 3],\n",
              "       [ 6],\n",
              "       [12],\n",
              "       [11],\n",
              "       [10],\n",
              "       [ 5],\n",
              "       [16],\n",
              "       [17],\n",
              "       [12],\n",
              "       [11],\n",
              "       [ 5],\n",
              "       [11]])"
            ]
          },
          "metadata": {},
          "execution_count": 21
        }
      ]
    },
    {
      "cell_type": "markdown",
      "source": [
        "Т.к. сети - это куча маленьких линейных регрессий, а им нужно масштабирование данных, то и для нейросетей, так же нужно масштабирование данных.\n"
      ],
      "metadata": {
        "id": "euyhpaA1h7Ee"
      }
    },
    {
      "cell_type": "code",
      "source": [
        "from sklearn.preprocessing import MinMaxScaler\n",
        "\n",
        "mms = MinMaxScaler()\n",
        "X_norm = mms.fit_transform(X)"
      ],
      "metadata": {
        "id": "oT7173S_f180"
      },
      "execution_count": null,
      "outputs": []
    },
    {
      "cell_type": "markdown",
      "source": [
        "Для того, что обучить нейронную сеть для любой задачи нужно ответить на три вопроса:\n",
        "1. Какая архитектура сети?\n",
        "2. Что оптимизируем?\n",
        "3. Как обучаем?"
      ],
      "metadata": {
        "id": "YYqaoqxgbqht"
      }
    },
    {
      "cell_type": "markdown",
      "source": [
        "### Какая архитектура сети"
      ],
      "metadata": {
        "id": "Q-BEwoGAbqht"
      }
    },
    {
      "cell_type": "markdown",
      "source": [
        "Создадим сеть посложнее, она будет состоять уже из двух слоев, чтобы быстрее обучалась. В одном слое 3 нейрона, а в выходном слое 1 нейрон.\n",
        "\n",
        "<img src='https://drive.google.com/uc?id=1iA7xkAzoWocEW-eVzI0MqVcLXALYg_In'>"
      ],
      "metadata": {
        "id": "AI3mYCrbbqht"
      }
    },
    {
      "cell_type": "markdown",
      "source": [
        "При этом пользуемся `Sequential`, т.к. у нас слои последовательные, сначала 2 входа идут в 5 нейронов, а затем выходы из этих 5 нейронов идут в один нейрон."
      ],
      "metadata": {
        "id": "U9Hci-A3S_M-"
      }
    },
    {
      "cell_type": "code",
      "source": [
        "from keras.layers import Dense\n",
        "from keras.models import Sequential\n",
        "tf.random.set_seed(9)\n",
        "\n",
        "model = Sequential([\n",
        "    Dense(3, input_shape=(2,), activation='linear'),\n",
        "    Dense(1, activation='linear')\n",
        "])\n",
        "\n",
        "model.summary()"
      ],
      "metadata": {
        "colab": {
          "base_uri": "https://localhost:8080/"
        },
        "id": "_XzSVCcyGIJV",
        "outputId": "e5c523bd-7e43-4597-f1d9-b136813d69ff"
      },
      "execution_count": null,
      "outputs": [
        {
          "output_type": "stream",
          "name": "stdout",
          "text": [
            "Model: \"sequential_3\"\n",
            "_________________________________________________________________\n",
            " Layer (type)                Output Shape              Param #   \n",
            "=================================================================\n",
            " dense_3 (Dense)             (None, 3)                 9         \n",
            "                                                                 \n",
            " dense_4 (Dense)             (None, 1)                 4         \n",
            "                                                                 \n",
            "=================================================================\n",
            "Total params: 13\n",
            "Trainable params: 13\n",
            "Non-trainable params: 0\n",
            "_________________________________________________________________\n"
          ]
        }
      ]
    },
    {
      "cell_type": "markdown",
      "source": [
        "Что здесь происходит с весами и с самой архитектурой?\n",
        "\n",
        "Количество весов для одного нейрона равно 2, т.к. два входа поступает, а вдобавок у каждого нейрона есть 1 bias, на первом слое 3 нейрона, значит суммарно весов на первом слое будет 9.\n",
        "\n",
        "Второй слой ждет на вход 3 сигнала, еще 1 bias.\n",
        "\n",
        "Получаем 9 + 4 = 13 обучаемых весов."
      ],
      "metadata": {
        "id": "OJRvtgG1YxmH"
      }
    },
    {
      "cell_type": "code",
      "source": [
        "model.get_weights()"
      ],
      "metadata": {
        "colab": {
          "base_uri": "https://localhost:8080/"
        },
        "id": "oOQrDNINZOJ2",
        "outputId": "4dc2915c-2ba4-46c2-9710-a9147fcb9d10"
      },
      "execution_count": null,
      "outputs": [
        {
          "output_type": "execute_result",
          "data": {
            "text/plain": [
              "[array([[ 0.73248446, -0.5927368 , -0.01929033],\n",
              "        [-1.0952368 ,  0.58574355,  1.0837345 ]], dtype=float32),\n",
              " array([0., 0., 0.], dtype=float32),\n",
              " array([[-0.08461869],\n",
              "        [-0.9175285 ],\n",
              "        [ 0.47594154]], dtype=float32),\n",
              " array([0.], dtype=float32)]"
            ]
          },
          "metadata": {},
          "execution_count": 24
        }
      ]
    },
    {
      "cell_type": "markdown",
      "source": [
        "### Что оптимизируем\n",
        "\n",
        "Снова задача регрессии, поэтому берем функцию потерь MSE."
      ],
      "metadata": {
        "id": "bmi5Nj8Obqhu"
      }
    },
    {
      "cell_type": "markdown",
      "source": [
        "### Как оптимизируем\n",
        "\n",
        "Возьмем тот же самый градиентный спуск со стохастикой."
      ],
      "metadata": {
        "id": "442ai77pbqhu"
      }
    },
    {
      "cell_type": "code",
      "source": [
        "model.compile(optimizer='sgd', loss='mse', metrics='mae')"
      ],
      "metadata": {
        "id": "uuSt5bzsbqhu"
      },
      "execution_count": null,
      "outputs": []
    },
    {
      "cell_type": "code",
      "source": [
        "%%time\n",
        "model.fit(X_norm, y, epochs=200)"
      ],
      "metadata": {
        "colab": {
          "base_uri": "https://localhost:8080/"
        },
        "outputId": "9a809d4a-e4fc-4367-87a0-23d00d678518",
        "id": "Y2U7VmAcbqhv"
      },
      "execution_count": null,
      "outputs": [
        {
          "output_type": "stream",
          "name": "stdout",
          "text": [
            "Epoch 1/200\n",
            "2/2 [==============================] - 1s 12ms/step - loss: 113.7689 - mae: 9.9573\n",
            "Epoch 2/200\n",
            "2/2 [==============================] - 0s 7ms/step - loss: 82.6992 - mae: 8.3772\n",
            "Epoch 3/200\n",
            "2/2 [==============================] - 0s 8ms/step - loss: 45.8990 - mae: 6.0215\n",
            "Epoch 4/200\n",
            "2/2 [==============================] - 0s 9ms/step - loss: 16.4918 - mae: 3.2887\n",
            "Epoch 5/200\n",
            "2/2 [==============================] - 0s 8ms/step - loss: 5.5372 - mae: 1.8620\n",
            "Epoch 6/200\n",
            "2/2 [==============================] - 0s 8ms/step - loss: 3.4749 - mae: 1.5724\n",
            "Epoch 7/200\n",
            "2/2 [==============================] - 0s 11ms/step - loss: 3.1028 - mae: 1.5062\n",
            "Epoch 8/200\n",
            "2/2 [==============================] - 0s 8ms/step - loss: 2.9241 - mae: 1.4609\n",
            "Epoch 9/200\n",
            "2/2 [==============================] - 0s 7ms/step - loss: 2.7486 - mae: 1.4151\n",
            "Epoch 10/200\n",
            "2/2 [==============================] - 0s 7ms/step - loss: 2.7085 - mae: 1.4056\n",
            "Epoch 11/200\n",
            "2/2 [==============================] - 0s 8ms/step - loss: 2.4961 - mae: 1.3377\n",
            "Epoch 12/200\n",
            "2/2 [==============================] - 0s 10ms/step - loss: 2.2925 - mae: 1.2851\n",
            "Epoch 13/200\n",
            "2/2 [==============================] - 0s 7ms/step - loss: 2.1273 - mae: 1.2339\n",
            "Epoch 14/200\n",
            "2/2 [==============================] - 0s 7ms/step - loss: 1.9794 - mae: 1.1927\n",
            "Epoch 15/200\n",
            "2/2 [==============================] - 0s 6ms/step - loss: 1.8559 - mae: 1.1543\n",
            "Epoch 16/200\n",
            "2/2 [==============================] - 0s 7ms/step - loss: 1.7405 - mae: 1.1179\n",
            "Epoch 17/200\n",
            "2/2 [==============================] - 0s 8ms/step - loss: 1.6574 - mae: 1.0943\n",
            "Epoch 18/200\n",
            "2/2 [==============================] - 0s 8ms/step - loss: 1.5350 - mae: 1.0387\n",
            "Epoch 19/200\n",
            "2/2 [==============================] - 0s 8ms/step - loss: 1.4366 - mae: 1.0153\n",
            "Epoch 20/200\n",
            "2/2 [==============================] - 0s 8ms/step - loss: 1.3302 - mae: 0.9659\n",
            "Epoch 21/200\n",
            "2/2 [==============================] - 0s 8ms/step - loss: 1.2445 - mae: 0.9437\n",
            "Epoch 22/200\n",
            "2/2 [==============================] - 0s 9ms/step - loss: 1.1576 - mae: 0.9114\n",
            "Epoch 23/200\n",
            "2/2 [==============================] - 0s 8ms/step - loss: 1.0743 - mae: 0.8708\n",
            "Epoch 24/200\n",
            "2/2 [==============================] - 0s 7ms/step - loss: 1.0041 - mae: 0.8374\n",
            "Epoch 25/200\n",
            "2/2 [==============================] - 0s 7ms/step - loss: 0.9199 - mae: 0.8000\n",
            "Epoch 26/200\n",
            "2/2 [==============================] - 0s 12ms/step - loss: 0.8601 - mae: 0.7807\n",
            "Epoch 27/200\n",
            "2/2 [==============================] - 0s 8ms/step - loss: 0.8000 - mae: 0.7434\n",
            "Epoch 28/200\n",
            "2/2 [==============================] - 0s 7ms/step - loss: 0.7351 - mae: 0.7211\n",
            "Epoch 29/200\n",
            "2/2 [==============================] - 0s 7ms/step - loss: 0.6797 - mae: 0.6896\n",
            "Epoch 30/200\n",
            "2/2 [==============================] - 0s 7ms/step - loss: 0.6409 - mae: 0.6713\n",
            "Epoch 31/200\n",
            "2/2 [==============================] - 0s 7ms/step - loss: 0.5920 - mae: 0.6376\n",
            "Epoch 32/200\n",
            "2/2 [==============================] - 0s 7ms/step - loss: 0.5453 - mae: 0.6180\n",
            "Epoch 33/200\n",
            "2/2 [==============================] - 0s 8ms/step - loss: 0.4999 - mae: 0.5869\n",
            "Epoch 34/200\n",
            "2/2 [==============================] - 0s 9ms/step - loss: 0.4642 - mae: 0.5691\n",
            "Epoch 35/200\n",
            "2/2 [==============================] - 0s 8ms/step - loss: 0.4264 - mae: 0.5398\n",
            "Epoch 36/200\n",
            "2/2 [==============================] - 0s 12ms/step - loss: 0.3997 - mae: 0.5252\n",
            "Epoch 37/200\n",
            "2/2 [==============================] - 0s 10ms/step - loss: 0.3649 - mae: 0.4980\n",
            "Epoch 38/200\n",
            "2/2 [==============================] - 0s 5ms/step - loss: 0.3331 - mae: 0.4772\n",
            "Epoch 39/200\n",
            "2/2 [==============================] - 0s 9ms/step - loss: 0.3051 - mae: 0.4589\n",
            "Epoch 40/200\n",
            "2/2 [==============================] - 0s 7ms/step - loss: 0.2791 - mae: 0.4355\n",
            "Epoch 41/200\n",
            "2/2 [==============================] - 0s 7ms/step - loss: 0.2577 - mae: 0.4189\n",
            "Epoch 42/200\n",
            "2/2 [==============================] - 0s 7ms/step - loss: 0.2461 - mae: 0.4090\n",
            "Epoch 43/200\n",
            "2/2 [==============================] - 0s 7ms/step - loss: 0.2202 - mae: 0.3869\n",
            "Epoch 44/200\n",
            "2/2 [==============================] - 0s 7ms/step - loss: 0.1997 - mae: 0.3677\n",
            "Epoch 45/200\n",
            "2/2 [==============================] - 0s 6ms/step - loss: 0.1854 - mae: 0.3535\n",
            "Epoch 46/200\n",
            "2/2 [==============================] - 0s 7ms/step - loss: 0.1708 - mae: 0.3409\n",
            "Epoch 47/200\n",
            "2/2 [==============================] - 0s 10ms/step - loss: 0.1565 - mae: 0.3239\n",
            "Epoch 48/200\n",
            "2/2 [==============================] - 0s 7ms/step - loss: 0.1463 - mae: 0.3171\n",
            "Epoch 49/200\n",
            "2/2 [==============================] - 0s 8ms/step - loss: 0.1322 - mae: 0.2967\n",
            "Epoch 50/200\n",
            "2/2 [==============================] - 0s 8ms/step - loss: 0.1206 - mae: 0.2852\n",
            "Epoch 51/200\n",
            "2/2 [==============================] - 0s 8ms/step - loss: 0.1108 - mae: 0.2720\n",
            "Epoch 52/200\n",
            "2/2 [==============================] - 0s 7ms/step - loss: 0.1041 - mae: 0.2663\n",
            "Epoch 53/200\n",
            "2/2 [==============================] - 0s 8ms/step - loss: 0.0944 - mae: 0.2543\n",
            "Epoch 54/200\n",
            "2/2 [==============================] - 0s 8ms/step - loss: 0.0871 - mae: 0.2417\n",
            "Epoch 55/200\n",
            "2/2 [==============================] - 0s 7ms/step - loss: 0.0815 - mae: 0.2360\n",
            "Epoch 56/200\n",
            "2/2 [==============================] - 0s 7ms/step - loss: 0.0733 - mae: 0.2224\n",
            "Epoch 57/200\n",
            "2/2 [==============================] - 0s 8ms/step - loss: 0.0665 - mae: 0.2107\n",
            "Epoch 58/200\n",
            "2/2 [==============================] - 0s 8ms/step - loss: 0.0633 - mae: 0.2077\n",
            "Epoch 59/200\n",
            "2/2 [==============================] - 0s 8ms/step - loss: 0.0574 - mae: 0.1982\n",
            "Epoch 60/200\n",
            "2/2 [==============================] - 0s 8ms/step - loss: 0.0513 - mae: 0.1849\n",
            "Epoch 61/200\n",
            "2/2 [==============================] - 0s 6ms/step - loss: 0.0469 - mae: 0.1759\n",
            "Epoch 62/200\n",
            "2/2 [==============================] - 0s 7ms/step - loss: 0.0426 - mae: 0.1697\n",
            "Epoch 63/200\n",
            "2/2 [==============================] - 0s 8ms/step - loss: 0.0398 - mae: 0.1651\n",
            "Epoch 64/200\n",
            "2/2 [==============================] - 0s 8ms/step - loss: 0.0356 - mae: 0.1543\n",
            "Epoch 65/200\n",
            "2/2 [==============================] - 0s 8ms/step - loss: 0.0321 - mae: 0.1463\n",
            "Epoch 66/200\n",
            "2/2 [==============================] - 0s 8ms/step - loss: 0.0296 - mae: 0.1408\n",
            "Epoch 67/200\n",
            "2/2 [==============================] - 0s 7ms/step - loss: 0.0269 - mae: 0.1348\n",
            "Epoch 68/200\n",
            "2/2 [==============================] - 0s 7ms/step - loss: 0.0243 - mae: 0.1273\n",
            "Epoch 69/200\n",
            "2/2 [==============================] - 0s 7ms/step - loss: 0.0222 - mae: 0.1215\n",
            "Epoch 70/200\n",
            "2/2 [==============================] - 0s 8ms/step - loss: 0.0202 - mae: 0.1163\n",
            "Epoch 71/200\n",
            "2/2 [==============================] - 0s 8ms/step - loss: 0.0187 - mae: 0.1116\n",
            "Epoch 72/200\n",
            "2/2 [==============================] - 0s 8ms/step - loss: 0.0172 - mae: 0.1069\n",
            "Epoch 73/200\n",
            "2/2 [==============================] - 0s 8ms/step - loss: 0.0158 - mae: 0.1029\n",
            "Epoch 74/200\n",
            "2/2 [==============================] - 0s 7ms/step - loss: 0.0144 - mae: 0.0980\n",
            "Epoch 75/200\n",
            "2/2 [==============================] - 0s 7ms/step - loss: 0.0130 - mae: 0.0931\n",
            "Epoch 76/200\n",
            "2/2 [==============================] - 0s 8ms/step - loss: 0.0118 - mae: 0.0884\n",
            "Epoch 77/200\n",
            "2/2 [==============================] - 0s 7ms/step - loss: 0.0107 - mae: 0.0845\n",
            "Epoch 78/200\n",
            "2/2 [==============================] - 0s 8ms/step - loss: 0.0098 - mae: 0.0816\n",
            "Epoch 79/200\n",
            "2/2 [==============================] - 0s 8ms/step - loss: 0.0089 - mae: 0.0774\n",
            "Epoch 80/200\n",
            "2/2 [==============================] - 0s 7ms/step - loss: 0.0081 - mae: 0.0734\n",
            "Epoch 81/200\n",
            "2/2 [==============================] - 0s 8ms/step - loss: 0.0074 - mae: 0.0702\n",
            "Epoch 82/200\n",
            "2/2 [==============================] - 0s 8ms/step - loss: 0.0067 - mae: 0.0669\n",
            "Epoch 83/200\n",
            "2/2 [==============================] - 0s 7ms/step - loss: 0.0062 - mae: 0.0644\n",
            "Epoch 84/200\n",
            "2/2 [==============================] - 0s 8ms/step - loss: 0.0056 - mae: 0.0611\n",
            "Epoch 85/200\n",
            "2/2 [==============================] - 0s 8ms/step - loss: 0.0051 - mae: 0.0581\n",
            "Epoch 86/200\n",
            "2/2 [==============================] - 0s 12ms/step - loss: 0.0046 - mae: 0.0556\n",
            "Epoch 87/200\n",
            "2/2 [==============================] - 0s 10ms/step - loss: 0.0042 - mae: 0.0530\n",
            "Epoch 88/200\n",
            "2/2 [==============================] - 0s 7ms/step - loss: 0.0039 - mae: 0.0508\n",
            "Epoch 89/200\n",
            "2/2 [==============================] - 0s 9ms/step - loss: 0.0035 - mae: 0.0484\n",
            "Epoch 90/200\n",
            "2/2 [==============================] - 0s 8ms/step - loss: 0.0033 - mae: 0.0467\n",
            "Epoch 91/200\n",
            "2/2 [==============================] - 0s 8ms/step - loss: 0.0029 - mae: 0.0443\n",
            "Epoch 92/200\n",
            "2/2 [==============================] - 0s 9ms/step - loss: 0.0026 - mae: 0.0419\n",
            "Epoch 93/200\n",
            "2/2 [==============================] - 0s 9ms/step - loss: 0.0024 - mae: 0.0401\n",
            "Epoch 94/200\n",
            "2/2 [==============================] - 0s 8ms/step - loss: 0.0022 - mae: 0.0383\n",
            "Epoch 95/200\n",
            "2/2 [==============================] - 0s 10ms/step - loss: 0.0020 - mae: 0.0368\n",
            "Epoch 96/200\n",
            "2/2 [==============================] - 0s 8ms/step - loss: 0.0018 - mae: 0.0348\n",
            "Epoch 97/200\n",
            "2/2 [==============================] - 0s 7ms/step - loss: 0.0017 - mae: 0.0333\n",
            "Epoch 98/200\n",
            "2/2 [==============================] - 0s 8ms/step - loss: 0.0015 - mae: 0.0315\n",
            "Epoch 99/200\n",
            "2/2 [==============================] - 0s 8ms/step - loss: 0.0014 - mae: 0.0299\n",
            "Epoch 100/200\n",
            "2/2 [==============================] - 0s 8ms/step - loss: 0.0012 - mae: 0.0286\n",
            "Epoch 101/200\n",
            "2/2 [==============================] - 0s 8ms/step - loss: 0.0011 - mae: 0.0276\n",
            "Epoch 102/200\n",
            "2/2 [==============================] - 0s 11ms/step - loss: 0.0010 - mae: 0.0263\n",
            "Epoch 103/200\n",
            "2/2 [==============================] - 0s 7ms/step - loss: 9.1915e-04 - mae: 0.0247\n",
            "Epoch 104/200\n",
            "2/2 [==============================] - 0s 7ms/step - loss: 8.3583e-04 - mae: 0.0236\n",
            "Epoch 105/200\n",
            "2/2 [==============================] - 0s 7ms/step - loss: 7.6174e-04 - mae: 0.0225\n",
            "Epoch 106/200\n",
            "2/2 [==============================] - 0s 8ms/step - loss: 6.9004e-04 - mae: 0.0215\n",
            "Epoch 107/200\n",
            "2/2 [==============================] - 0s 6ms/step - loss: 6.2646e-04 - mae: 0.0205\n",
            "Epoch 108/200\n",
            "2/2 [==============================] - 0s 10ms/step - loss: 5.8477e-04 - mae: 0.0197\n",
            "Epoch 109/200\n",
            "2/2 [==============================] - 0s 8ms/step - loss: 5.1991e-04 - mae: 0.0188\n",
            "Epoch 110/200\n",
            "2/2 [==============================] - 0s 8ms/step - loss: 4.6786e-04 - mae: 0.0177\n",
            "Epoch 111/200\n",
            "2/2 [==============================] - 0s 7ms/step - loss: 4.4165e-04 - mae: 0.0172\n",
            "Epoch 112/200\n",
            "2/2 [==============================] - 0s 7ms/step - loss: 3.9516e-04 - mae: 0.0161\n",
            "Epoch 113/200\n",
            "2/2 [==============================] - 0s 8ms/step - loss: 3.5089e-04 - mae: 0.0152\n",
            "Epoch 114/200\n",
            "2/2 [==============================] - 0s 9ms/step - loss: 3.1934e-04 - mae: 0.0146\n",
            "Epoch 115/200\n",
            "2/2 [==============================] - 0s 9ms/step - loss: 2.9073e-04 - mae: 0.0139\n",
            "Epoch 116/200\n",
            "2/2 [==============================] - 0s 9ms/step - loss: 2.6565e-04 - mae: 0.0133\n",
            "Epoch 117/200\n",
            "2/2 [==============================] - 0s 8ms/step - loss: 2.3966e-04 - mae: 0.0127\n",
            "Epoch 118/200\n",
            "2/2 [==============================] - 0s 8ms/step - loss: 2.1952e-04 - mae: 0.0121\n",
            "Epoch 119/200\n",
            "2/2 [==============================] - 0s 11ms/step - loss: 2.0316e-04 - mae: 0.0117\n",
            "Epoch 120/200\n",
            "2/2 [==============================] - 0s 8ms/step - loss: 1.8443e-04 - mae: 0.0111\n",
            "Epoch 121/200\n",
            "2/2 [==============================] - 0s 7ms/step - loss: 1.6668e-04 - mae: 0.0105\n",
            "Epoch 122/200\n",
            "2/2 [==============================] - 0s 8ms/step - loss: 1.5190e-04 - mae: 0.0101\n",
            "Epoch 123/200\n",
            "2/2 [==============================] - 0s 7ms/step - loss: 1.3819e-04 - mae: 0.0096\n",
            "Epoch 124/200\n",
            "2/2 [==============================] - 0s 9ms/step - loss: 1.2564e-04 - mae: 0.0092\n",
            "Epoch 125/200\n",
            "2/2 [==============================] - 0s 8ms/step - loss: 1.1500e-04 - mae: 0.0088\n",
            "Epoch 126/200\n",
            "2/2 [==============================] - 0s 9ms/step - loss: 1.0552e-04 - mae: 0.0084\n",
            "Epoch 127/200\n",
            "2/2 [==============================] - 0s 7ms/step - loss: 9.6193e-05 - mae: 0.0081\n",
            "Epoch 128/200\n",
            "2/2 [==============================] - 0s 8ms/step - loss: 8.7432e-05 - mae: 0.0076\n",
            "Epoch 129/200\n",
            "2/2 [==============================] - 0s 8ms/step - loss: 7.9657e-05 - mae: 0.0074\n",
            "Epoch 130/200\n",
            "2/2 [==============================] - 0s 8ms/step - loss: 7.3141e-05 - mae: 0.0070\n",
            "Epoch 131/200\n",
            "2/2 [==============================] - 0s 8ms/step - loss: 6.6037e-05 - mae: 0.0066\n",
            "Epoch 132/200\n",
            "2/2 [==============================] - 0s 8ms/step - loss: 6.0064e-05 - mae: 0.0063\n",
            "Epoch 133/200\n",
            "2/2 [==============================] - 0s 12ms/step - loss: 5.5224e-05 - mae: 0.0061\n",
            "Epoch 134/200\n",
            "2/2 [==============================] - 0s 8ms/step - loss: 5.0109e-05 - mae: 0.0059\n",
            "Epoch 135/200\n",
            "2/2 [==============================] - 0s 8ms/step - loss: 4.6263e-05 - mae: 0.0056\n",
            "Epoch 136/200\n",
            "2/2 [==============================] - 0s 8ms/step - loss: 4.4463e-05 - mae: 0.0054\n",
            "Epoch 137/200\n",
            "2/2 [==============================] - 0s 7ms/step - loss: 3.8985e-05 - mae: 0.0051\n",
            "Epoch 138/200\n",
            "2/2 [==============================] - 0s 8ms/step - loss: 3.6180e-05 - mae: 0.0050\n",
            "Epoch 139/200\n",
            "2/2 [==============================] - 0s 8ms/step - loss: 3.2019e-05 - mae: 0.0046\n",
            "Epoch 140/200\n",
            "2/2 [==============================] - 0s 8ms/step - loss: 2.8413e-05 - mae: 0.0044\n",
            "Epoch 141/200\n",
            "2/2 [==============================] - 0s 10ms/step - loss: 2.6031e-05 - mae: 0.0042\n",
            "Epoch 142/200\n",
            "2/2 [==============================] - 0s 7ms/step - loss: 2.3705e-05 - mae: 0.0040\n",
            "Epoch 143/200\n",
            "2/2 [==============================] - 0s 7ms/step - loss: 2.1517e-05 - mae: 0.0038\n",
            "Epoch 144/200\n",
            "2/2 [==============================] - 0s 9ms/step - loss: 1.9538e-05 - mae: 0.0036\n",
            "Epoch 145/200\n",
            "2/2 [==============================] - 0s 9ms/step - loss: 1.7807e-05 - mae: 0.0035\n",
            "Epoch 146/200\n",
            "2/2 [==============================] - 0s 8ms/step - loss: 1.6192e-05 - mae: 0.0033\n",
            "Epoch 147/200\n",
            "2/2 [==============================] - 0s 7ms/step - loss: 1.4811e-05 - mae: 0.0032\n",
            "Epoch 148/200\n",
            "2/2 [==============================] - 0s 7ms/step - loss: 1.3831e-05 - mae: 0.0030\n",
            "Epoch 149/200\n",
            "2/2 [==============================] - 0s 7ms/step - loss: 1.2458e-05 - mae: 0.0029\n",
            "Epoch 150/200\n",
            "2/2 [==============================] - 0s 7ms/step - loss: 1.1057e-05 - mae: 0.0027\n",
            "Epoch 151/200\n",
            "2/2 [==============================] - 0s 7ms/step - loss: 1.0222e-05 - mae: 0.0026\n",
            "Epoch 152/200\n",
            "2/2 [==============================] - 0s 7ms/step - loss: 9.2980e-06 - mae: 0.0025\n",
            "Epoch 153/200\n",
            "2/2 [==============================] - 0s 7ms/step - loss: 8.3947e-06 - mae: 0.0024\n",
            "Epoch 154/200\n",
            "2/2 [==============================] - 0s 7ms/step - loss: 7.5985e-06 - mae: 0.0023\n",
            "Epoch 155/200\n",
            "2/2 [==============================] - 0s 8ms/step - loss: 6.8272e-06 - mae: 0.0021\n",
            "Epoch 156/200\n",
            "2/2 [==============================] - 0s 7ms/step - loss: 6.3064e-06 - mae: 0.0021\n",
            "Epoch 157/200\n",
            "2/2 [==============================] - 0s 8ms/step - loss: 5.7509e-06 - mae: 0.0020\n",
            "Epoch 158/200\n",
            "2/2 [==============================] - 0s 8ms/step - loss: 5.2449e-06 - mae: 0.0019\n",
            "Epoch 159/200\n",
            "2/2 [==============================] - 0s 8ms/step - loss: 4.7657e-06 - mae: 0.0018\n",
            "Epoch 160/200\n",
            "2/2 [==============================] - 0s 8ms/step - loss: 4.2997e-06 - mae: 0.0017\n",
            "Epoch 161/200\n",
            "2/2 [==============================] - 0s 8ms/step - loss: 3.8870e-06 - mae: 0.0016\n",
            "Epoch 162/200\n",
            "2/2 [==============================] - 0s 8ms/step - loss: 3.5527e-06 - mae: 0.0015\n",
            "Epoch 163/200\n",
            "2/2 [==============================] - 0s 9ms/step - loss: 3.2493e-06 - mae: 0.0015\n",
            "Epoch 164/200\n",
            "2/2 [==============================] - 0s 11ms/step - loss: 2.9394e-06 - mae: 0.0014\n",
            "Epoch 165/200\n",
            "2/2 [==============================] - 0s 11ms/step - loss: 2.6706e-06 - mae: 0.0013\n",
            "Epoch 166/200\n",
            "2/2 [==============================] - 0s 7ms/step - loss: 2.4429e-06 - mae: 0.0013\n",
            "Epoch 167/200\n",
            "2/2 [==============================] - 0s 7ms/step - loss: 2.2144e-06 - mae: 0.0012\n",
            "Epoch 168/200\n",
            "2/2 [==============================] - 0s 8ms/step - loss: 2.0149e-06 - mae: 0.0012\n",
            "Epoch 169/200\n",
            "2/2 [==============================] - 0s 8ms/step - loss: 1.8253e-06 - mae: 0.0011\n",
            "Epoch 170/200\n",
            "2/2 [==============================] - 0s 8ms/step - loss: 1.6514e-06 - mae: 0.0011\n",
            "Epoch 171/200\n",
            "2/2 [==============================] - 0s 8ms/step - loss: 1.4939e-06 - mae: 0.0010\n",
            "Epoch 172/200\n",
            "2/2 [==============================] - 0s 8ms/step - loss: 1.3670e-06 - mae: 9.5848e-04\n",
            "Epoch 173/200\n",
            "2/2 [==============================] - 0s 8ms/step - loss: 1.2527e-06 - mae: 9.1603e-04\n",
            "Epoch 174/200\n",
            "2/2 [==============================] - 0s 7ms/step - loss: 1.1394e-06 - mae: 8.6872e-04\n",
            "Epoch 175/200\n",
            "2/2 [==============================] - 0s 7ms/step - loss: 1.0373e-06 - mae: 8.4009e-04\n",
            "Epoch 176/200\n",
            "2/2 [==============================] - 0s 7ms/step - loss: 9.4346e-07 - mae: 8.0137e-04\n",
            "Epoch 177/200\n",
            "2/2 [==============================] - 0s 8ms/step - loss: 8.6483e-07 - mae: 7.6842e-04\n",
            "Epoch 178/200\n",
            "2/2 [==============================] - 0s 9ms/step - loss: 7.9189e-07 - mae: 7.2340e-04\n",
            "Epoch 179/200\n",
            "2/2 [==============================] - 0s 9ms/step - loss: 7.1409e-07 - mae: 7.0019e-04\n",
            "Epoch 180/200\n",
            "2/2 [==============================] - 0s 7ms/step - loss: 6.5604e-07 - mae: 6.6069e-04\n",
            "Epoch 181/200\n",
            "2/2 [==============================] - 0s 9ms/step - loss: 5.8726e-07 - mae: 6.3432e-04\n",
            "Epoch 182/200\n",
            "2/2 [==============================] - 0s 8ms/step - loss: 5.3359e-07 - mae: 5.9902e-04\n",
            "Epoch 183/200\n",
            "2/2 [==============================] - 0s 8ms/step - loss: 5.0432e-07 - mae: 5.7641e-04\n",
            "Epoch 184/200\n",
            "2/2 [==============================] - 0s 7ms/step - loss: 4.4991e-07 - mae: 5.4995e-04\n",
            "Epoch 185/200\n",
            "2/2 [==============================] - 0s 8ms/step - loss: 4.0864e-07 - mae: 5.2301e-04\n",
            "Epoch 186/200\n",
            "2/2 [==============================] - 0s 12ms/step - loss: 3.6780e-07 - mae: 5.0628e-04\n",
            "Epoch 187/200\n",
            "2/2 [==============================] - 0s 8ms/step - loss: 3.3142e-07 - mae: 4.6847e-04\n",
            "Epoch 188/200\n",
            "2/2 [==============================] - 0s 8ms/step - loss: 3.0178e-07 - mae: 4.5237e-04\n",
            "Epoch 189/200\n",
            "2/2 [==============================] - 0s 7ms/step - loss: 2.7692e-07 - mae: 4.3572e-04\n",
            "Epoch 190/200\n",
            "2/2 [==============================] - 0s 8ms/step - loss: 2.5115e-07 - mae: 4.0789e-04\n",
            "Epoch 191/200\n",
            "2/2 [==============================] - 0s 8ms/step - loss: 2.2810e-07 - mae: 3.9411e-04\n",
            "Epoch 192/200\n",
            "2/2 [==============================] - 0s 7ms/step - loss: 2.1540e-07 - mae: 3.8108e-04\n",
            "Epoch 193/200\n",
            "2/2 [==============================] - 0s 7ms/step - loss: 1.9872e-07 - mae: 3.7509e-04\n",
            "Epoch 194/200\n",
            "2/2 [==============================] - 0s 7ms/step - loss: 1.7408e-07 - mae: 3.3950e-04\n",
            "Epoch 195/200\n",
            "2/2 [==============================] - 0s 8ms/step - loss: 1.5479e-07 - mae: 3.2395e-04\n",
            "Epoch 196/200\n",
            "2/2 [==============================] - 0s 8ms/step - loss: 1.4021e-07 - mae: 3.0709e-04\n",
            "Epoch 197/200\n",
            "2/2 [==============================] - 0s 8ms/step - loss: 1.2708e-07 - mae: 2.9458e-04\n",
            "Epoch 198/200\n",
            "2/2 [==============================] - 0s 8ms/step - loss: 1.1618e-07 - mae: 2.8070e-04\n",
            "Epoch 199/200\n",
            "2/2 [==============================] - 0s 8ms/step - loss: 1.0630e-07 - mae: 2.6945e-04\n",
            "Epoch 200/200\n",
            "2/2 [==============================] - 0s 8ms/step - loss: 9.7332e-08 - mae: 2.5671e-04\n",
            "CPU times: user 3.99 s, sys: 163 ms, total: 4.15 s\n",
            "Wall time: 5.82 s\n"
          ]
        },
        {
          "output_type": "execute_result",
          "data": {
            "text/plain": [
              "<keras.callbacks.History at 0x7f2a58d62850>"
            ]
          },
          "metadata": {},
          "execution_count": 26
        }
      ]
    },
    {
      "cell_type": "markdown",
      "source": [
        "Сеть обучается, ошибка падает, метрика становится лучше, всё замечательно.\n",
        "\n",
        "Теперь проверим, а как модель работает на новых данных."
      ],
      "metadata": {
        "id": "tNfv4XxBbqhv"
      }
    },
    {
      "cell_type": "code",
      "source": [
        "test_X = [[4, 2],\n",
        "          [6, 2]]\n",
        "test_X = mms.transform(test_X)\n",
        "print(\"Предсказание нейронной сети: \")\n",
        "print(model.predict(np.array(test_X)))"
      ],
      "metadata": {
        "colab": {
          "base_uri": "https://localhost:8080/"
        },
        "outputId": "ef4c8692-5ea9-4b4d-d672-f023b7da54e1",
        "id": "_c2igAtsbqhv"
      },
      "execution_count": null,
      "outputs": [
        {
          "output_type": "stream",
          "name": "stdout",
          "text": [
            "Предсказание нейронной сети: \n",
            "1/1 [==============================] - 0s 53ms/step\n",
            "[[6.0004826]\n",
            " [8.000408 ]]\n"
          ]
        }
      ]
    },
    {
      "cell_type": "markdown",
      "source": [
        "Предсказания очень похожи на истину."
      ],
      "metadata": {
        "id": "YnqP0EUUbqhv"
      }
    },
    {
      "cell_type": "markdown",
      "source": [
        "И проверимся на всех обучающих данных."
      ],
      "metadata": {
        "id": "p4OVXPaIbqhv"
      }
    },
    {
      "cell_type": "code",
      "source": [
        "import pandas as pd\n",
        "\n",
        "pd.DataFrame({\n",
        "    'x1': X[:, 0],\n",
        "    'x2': X[:, 1],\n",
        "    'true': np.squeeze(y),\n",
        "    'pred': np.squeeze(model.predict(X_norm))\n",
        "}).head(10)"
      ],
      "metadata": {
        "colab": {
          "base_uri": "https://localhost:8080/",
          "height": 381
        },
        "outputId": "c4ca7b99-1598-415a-cc50-af458ebb4475",
        "id": "GIUnd40Ibqhv"
      },
      "execution_count": null,
      "outputs": [
        {
          "output_type": "stream",
          "name": "stdout",
          "text": [
            "2/2 [==============================] - 0s 5ms/step\n"
          ]
        },
        {
          "output_type": "execute_result",
          "data": {
            "text/plain": [
              "   x1  x2  true       pred\n",
              "0   6   8    14  13.999800\n",
              "1   9   7    16  15.999790\n",
              "2   6   8    14  13.999800\n",
              "3   1   8     9   8.999986\n",
              "4   4   3     7   7.000381\n",
              "5   3   5     8   8.000216\n",
              "6   9   3    12  12.000196\n",
              "7   1   4     5   5.000391\n",
              "8   6   9    15  14.999699\n",
              "9   4   9    13  12.999773"
            ],
            "text/html": [
              "\n",
              "  <div id=\"df-85a53d31-9f37-4b7c-9d76-c54252bafb72\">\n",
              "    <div class=\"colab-df-container\">\n",
              "      <div>\n",
              "<style scoped>\n",
              "    .dataframe tbody tr th:only-of-type {\n",
              "        vertical-align: middle;\n",
              "    }\n",
              "\n",
              "    .dataframe tbody tr th {\n",
              "        vertical-align: top;\n",
              "    }\n",
              "\n",
              "    .dataframe thead th {\n",
              "        text-align: right;\n",
              "    }\n",
              "</style>\n",
              "<table border=\"1\" class=\"dataframe\">\n",
              "  <thead>\n",
              "    <tr style=\"text-align: right;\">\n",
              "      <th></th>\n",
              "      <th>x1</th>\n",
              "      <th>x2</th>\n",
              "      <th>true</th>\n",
              "      <th>pred</th>\n",
              "    </tr>\n",
              "  </thead>\n",
              "  <tbody>\n",
              "    <tr>\n",
              "      <th>0</th>\n",
              "      <td>6</td>\n",
              "      <td>8</td>\n",
              "      <td>14</td>\n",
              "      <td>13.999800</td>\n",
              "    </tr>\n",
              "    <tr>\n",
              "      <th>1</th>\n",
              "      <td>9</td>\n",
              "      <td>7</td>\n",
              "      <td>16</td>\n",
              "      <td>15.999790</td>\n",
              "    </tr>\n",
              "    <tr>\n",
              "      <th>2</th>\n",
              "      <td>6</td>\n",
              "      <td>8</td>\n",
              "      <td>14</td>\n",
              "      <td>13.999800</td>\n",
              "    </tr>\n",
              "    <tr>\n",
              "      <th>3</th>\n",
              "      <td>1</td>\n",
              "      <td>8</td>\n",
              "      <td>9</td>\n",
              "      <td>8.999986</td>\n",
              "    </tr>\n",
              "    <tr>\n",
              "      <th>4</th>\n",
              "      <td>4</td>\n",
              "      <td>3</td>\n",
              "      <td>7</td>\n",
              "      <td>7.000381</td>\n",
              "    </tr>\n",
              "    <tr>\n",
              "      <th>5</th>\n",
              "      <td>3</td>\n",
              "      <td>5</td>\n",
              "      <td>8</td>\n",
              "      <td>8.000216</td>\n",
              "    </tr>\n",
              "    <tr>\n",
              "      <th>6</th>\n",
              "      <td>9</td>\n",
              "      <td>3</td>\n",
              "      <td>12</td>\n",
              "      <td>12.000196</td>\n",
              "    </tr>\n",
              "    <tr>\n",
              "      <th>7</th>\n",
              "      <td>1</td>\n",
              "      <td>4</td>\n",
              "      <td>5</td>\n",
              "      <td>5.000391</td>\n",
              "    </tr>\n",
              "    <tr>\n",
              "      <th>8</th>\n",
              "      <td>6</td>\n",
              "      <td>9</td>\n",
              "      <td>15</td>\n",
              "      <td>14.999699</td>\n",
              "    </tr>\n",
              "    <tr>\n",
              "      <th>9</th>\n",
              "      <td>4</td>\n",
              "      <td>9</td>\n",
              "      <td>13</td>\n",
              "      <td>12.999773</td>\n",
              "    </tr>\n",
              "  </tbody>\n",
              "</table>\n",
              "</div>\n",
              "      <button class=\"colab-df-convert\" onclick=\"convertToInteractive('df-85a53d31-9f37-4b7c-9d76-c54252bafb72')\"\n",
              "              title=\"Convert this dataframe to an interactive table.\"\n",
              "              style=\"display:none;\">\n",
              "        \n",
              "  <svg xmlns=\"http://www.w3.org/2000/svg\" height=\"24px\"viewBox=\"0 0 24 24\"\n",
              "       width=\"24px\">\n",
              "    <path d=\"M0 0h24v24H0V0z\" fill=\"none\"/>\n",
              "    <path d=\"M18.56 5.44l.94 2.06.94-2.06 2.06-.94-2.06-.94-.94-2.06-.94 2.06-2.06.94zm-11 1L8.5 8.5l.94-2.06 2.06-.94-2.06-.94L8.5 2.5l-.94 2.06-2.06.94zm10 10l.94 2.06.94-2.06 2.06-.94-2.06-.94-.94-2.06-.94 2.06-2.06.94z\"/><path d=\"M17.41 7.96l-1.37-1.37c-.4-.4-.92-.59-1.43-.59-.52 0-1.04.2-1.43.59L10.3 9.45l-7.72 7.72c-.78.78-.78 2.05 0 2.83L4 21.41c.39.39.9.59 1.41.59.51 0 1.02-.2 1.41-.59l7.78-7.78 2.81-2.81c.8-.78.8-2.07 0-2.86zM5.41 20L4 18.59l7.72-7.72 1.47 1.35L5.41 20z\"/>\n",
              "  </svg>\n",
              "      </button>\n",
              "      \n",
              "  <style>\n",
              "    .colab-df-container {\n",
              "      display:flex;\n",
              "      flex-wrap:wrap;\n",
              "      gap: 12px;\n",
              "    }\n",
              "\n",
              "    .colab-df-convert {\n",
              "      background-color: #E8F0FE;\n",
              "      border: none;\n",
              "      border-radius: 50%;\n",
              "      cursor: pointer;\n",
              "      display: none;\n",
              "      fill: #1967D2;\n",
              "      height: 32px;\n",
              "      padding: 0 0 0 0;\n",
              "      width: 32px;\n",
              "    }\n",
              "\n",
              "    .colab-df-convert:hover {\n",
              "      background-color: #E2EBFA;\n",
              "      box-shadow: 0px 1px 2px rgba(60, 64, 67, 0.3), 0px 1px 3px 1px rgba(60, 64, 67, 0.15);\n",
              "      fill: #174EA6;\n",
              "    }\n",
              "\n",
              "    [theme=dark] .colab-df-convert {\n",
              "      background-color: #3B4455;\n",
              "      fill: #D2E3FC;\n",
              "    }\n",
              "\n",
              "    [theme=dark] .colab-df-convert:hover {\n",
              "      background-color: #434B5C;\n",
              "      box-shadow: 0px 1px 3px 1px rgba(0, 0, 0, 0.15);\n",
              "      filter: drop-shadow(0px 1px 2px rgba(0, 0, 0, 0.3));\n",
              "      fill: #FFFFFF;\n",
              "    }\n",
              "  </style>\n",
              "\n",
              "      <script>\n",
              "        const buttonEl =\n",
              "          document.querySelector('#df-85a53d31-9f37-4b7c-9d76-c54252bafb72 button.colab-df-convert');\n",
              "        buttonEl.style.display =\n",
              "          google.colab.kernel.accessAllowed ? 'block' : 'none';\n",
              "\n",
              "        async function convertToInteractive(key) {\n",
              "          const element = document.querySelector('#df-85a53d31-9f37-4b7c-9d76-c54252bafb72');\n",
              "          const dataTable =\n",
              "            await google.colab.kernel.invokeFunction('convertToInteractive',\n",
              "                                                     [key], {});\n",
              "          if (!dataTable) return;\n",
              "\n",
              "          const docLinkHtml = 'Like what you see? Visit the ' +\n",
              "            '<a target=\"_blank\" href=https://colab.research.google.com/notebooks/data_table.ipynb>data table notebook</a>'\n",
              "            + ' to learn more about interactive tables.';\n",
              "          element.innerHTML = '';\n",
              "          dataTable['output_type'] = 'display_data';\n",
              "          await google.colab.output.renderOutput(dataTable, element);\n",
              "          const docLink = document.createElement('div');\n",
              "          docLink.innerHTML = docLinkHtml;\n",
              "          element.appendChild(docLink);\n",
              "        }\n",
              "      </script>\n",
              "    </div>\n",
              "  </div>\n",
              "  "
            ]
          },
          "metadata": {},
          "execution_count": 28
        }
      ]
    },
    {
      "cell_type": "markdown",
      "source": [
        "## Сеть для классификации изображений"
      ],
      "metadata": {
        "id": "dMl_PwDBrLf3"
      }
    },
    {
      "cell_type": "markdown",
      "source": [
        "Подгрузим данные из стандартных датасетов из `keras`.\n",
        "\n",
        "Датасет называется MNIST и представляет из себя черно-белые изображения 28 на 28 пикселей. "
      ],
      "metadata": {
        "id": "jQ3JsN_PrLf5"
      }
    },
    {
      "cell_type": "code",
      "source": [
        "from keras.datasets import mnist\n",
        "\n",
        "(X_train, y_train), (X_test, y_test) = mnist.load_data()\n",
        "\n",
        "X_train.shape, X_test.shape"
      ],
      "metadata": {
        "colab": {
          "base_uri": "https://localhost:8080/"
        },
        "id": "TALj1QyerYip",
        "outputId": "37c98017-ea37-4a37-8e05-c8a555689178"
      },
      "execution_count": null,
      "outputs": [
        {
          "output_type": "execute_result",
          "data": {
            "text/plain": [
              "((60000, 28, 28), (10000, 28, 28))"
            ]
          },
          "metadata": {},
          "execution_count": 29
        }
      ]
    },
    {
      "cell_type": "code",
      "source": [
        "X_train[0].shape"
      ],
      "metadata": {
        "colab": {
          "base_uri": "https://localhost:8080/"
        },
        "id": "OvJVT5FDrzPq",
        "outputId": "af5e7a6b-576c-48ef-8ca7-c365f4c490fd"
      },
      "execution_count": null,
      "outputs": [
        {
          "output_type": "execute_result",
          "data": {
            "text/plain": [
              "(28, 28)"
            ]
          },
          "metadata": {},
          "execution_count": 30
        }
      ]
    },
    {
      "cell_type": "code",
      "source": [
        "import matplotlib.pyplot as plt\n",
        "fig, ax = plt.subplots(1, 5, figsize=(15, 10))\n",
        "\n",
        "for i in range(5):\n",
        "    ax[i].imshow(X_train[i], cmap='gray')\n",
        "    ax[i].axis('off')"
      ],
      "metadata": {
        "colab": {
          "base_uri": "https://localhost:8080/",
          "height": 237
        },
        "id": "CdFJtQUQy0or",
        "outputId": "04a2e02c-0158-4ec6-e9e7-821ff905739f"
      },
      "execution_count": null,
      "outputs": [
        {
          "output_type": "display_data",
          "data": {
            "text/plain": [
              "<Figure size 1500x1000 with 5 Axes>"
            ],
            "image/png": "[encoded data removed]"
          },
          "metadata": {}
        }
      ]
    },
    {
      "cell_type": "code",
      "source": [
        "y_train[:5]"
      ],
      "metadata": {
        "colab": {
          "base_uri": "https://localhost:8080/"
        },
        "outputId": "ec17c2db-8771-463f-89be-6902a3655f1c",
        "id": "SLYR6H1brLf6"
      },
      "execution_count": null,
      "outputs": [
        {
          "output_type": "execute_result",
          "data": {
            "text/plain": [
              "array([5, 0, 4, 1, 9], dtype=uint8)"
            ]
          },
          "metadata": {},
          "execution_count": 32
        }
      ]
    },
    {
      "cell_type": "markdown",
      "source": [
        "Но давайте упростим себе задачу и возьмем для обучения только два класса, чтобы сделать задачу бинарной классификации."
      ],
      "metadata": {
        "id": "Uqafao750wfc"
      }
    },
    {
      "cell_type": "code",
      "source": [
        "idxs = np.where((y_train == 0) | (y_train == 1))\n",
        "y_train = y_train[idxs]"
      ],
      "metadata": {
        "id": "k-2c7wJ40UfB"
      },
      "execution_count": null,
      "outputs": []
    },
    {
      "cell_type": "code",
      "source": [
        "X_train = X_train[idxs]"
      ],
      "metadata": {
        "id": "7mE2dASL0tfI"
      },
      "execution_count": null,
      "outputs": []
    },
    {
      "cell_type": "code",
      "source": [
        "X_train.shape, y_train.shape"
      ],
      "metadata": {
        "colab": {
          "base_uri": "https://localhost:8080/"
        },
        "id": "uf6sxEBK05sv",
        "outputId": "6e47cb2a-a96f-4f1b-f585-3073dd5025bd"
      },
      "execution_count": null,
      "outputs": [
        {
          "output_type": "execute_result",
          "data": {
            "text/plain": [
              "((12665, 28, 28), (12665,))"
            ]
          },
          "metadata": {},
          "execution_count": 35
        }
      ]
    },
    {
      "cell_type": "markdown",
      "source": [
        "И тоже самое для теста."
      ],
      "metadata": {
        "id": "Uwfrh9Os0_TE"
      }
    },
    {
      "cell_type": "code",
      "source": [
        "idxs = np.where((y_test == 0) | (y_test == 1))\n",
        "y_test = y_test[idxs]\n",
        "\n",
        "X_test = X_test[idxs]\n",
        "\n",
        "X_test.shape, y_test.shape"
      ],
      "metadata": {
        "colab": {
          "base_uri": "https://localhost:8080/"
        },
        "id": "_aXF2MFw1Avv",
        "outputId": "4bbc18cb-0af1-4a17-ede6-c78f16a50718"
      },
      "execution_count": null,
      "outputs": [
        {
          "output_type": "execute_result",
          "data": {
            "text/plain": [
              "((2115, 28, 28), (2115,))"
            ]
          },
          "metadata": {},
          "execution_count": 36
        }
      ]
    },
    {
      "cell_type": "markdown",
      "source": [
        "Убедимся, что теперь у нас только 0, либо 1."
      ],
      "metadata": {
        "id": "AHTXRcF5-jdc"
      }
    },
    {
      "cell_type": "code",
      "source": [
        "fig, ax = plt.subplots(1, 5, figsize=(15, 10))\n",
        "\n",
        "for i in range(5):\n",
        "    ax[i].imshow(X_train[i], cmap='gray')\n",
        "    ax[i].axis('off')"
      ],
      "metadata": {
        "colab": {
          "base_uri": "https://localhost:8080/",
          "height": 237
        },
        "id": "icacSfk21L7E",
        "outputId": "7a28b953-3382-47b3-cbe0-5d24ee302fc7"
      },
      "execution_count": null,
      "outputs": [
        {
          "output_type": "display_data",
          "data": {
            "text/plain": [
              "<Figure size 1500x1000 with 5 Axes>"
            ],
            "image/png": "[encoded data removed]"
          },
          "metadata": {}
        }
      ]
    },
    {
      "cell_type": "code",
      "source": [
        "y_train[:5]"
      ],
      "metadata": {
        "colab": {
          "base_uri": "https://localhost:8080/"
        },
        "id": "7nEFHn_A1Nar",
        "outputId": "2a170de0-0f98-416e-e512-485fdcfe473e"
      },
      "execution_count": null,
      "outputs": [
        {
          "output_type": "execute_result",
          "data": {
            "text/plain": [
              "array([0, 1, 1, 1, 1], dtype=uint8)"
            ]
          },
          "metadata": {},
          "execution_count": 38
        }
      ]
    },
    {
      "cell_type": "markdown",
      "source": [
        "Нормируем данные, сейчас обойдемся без `MinMaxScaler` из `sklearn`, а воспользуемся делением на 255, т.к. сейчас изображения представлены пикселями в диапазоне от 0 до 255, а для нейросети комфортней обучаться на диапазоне от 0 до 1."
      ],
      "metadata": {
        "id": "gjJV8oXFrLf7"
      }
    },
    {
      "cell_type": "code",
      "source": [
        "print(X_train.min(), X_train.max())\n",
        "\n",
        "X_train = X_train / 255.0\n",
        "X_test = X_test / 255.0\n",
        "\n",
        "print(X_train.min(), X_train.max())"
      ],
      "metadata": {
        "colab": {
          "base_uri": "https://localhost:8080/"
        },
        "id": "RADeSMbdrLf7",
        "outputId": "216692ca-6542-422e-ba36-975218fa79b5"
      },
      "execution_count": null,
      "outputs": [
        {
          "output_type": "stream",
          "name": "stdout",
          "text": [
            "0 255\n",
            "0.0 1.0\n"
          ]
        }
      ]
    },
    {
      "cell_type": "markdown",
      "source": [
        "Так же нужно видоизменить метку класса, сейчас это лейблы 0 или 1, нужно преобразовать в бинарный вид.\n",
        "\n",
        "Тем самым получаем 2 столбика, где первый - это метка является ли изображение 0 классом, а второй столбик - является ли изображение 1 классом."
      ],
      "metadata": {
        "id": "1J1-UKso2hv-"
      }
    },
    {
      "cell_type": "code",
      "source": [
        "from keras.utils.np_utils import to_categorical\n",
        "\n",
        "y_train_cat = to_categorical(y_train)\n",
        "y_test_cat = to_categorical(y_test)\n",
        "\n",
        "y_train[:5]"
      ],
      "metadata": {
        "colab": {
          "base_uri": "https://localhost:8080/"
        },
        "id": "VtEYAHdF2ru5",
        "outputId": "d9bdb99d-74bc-4c89-e953-7c585b146f85"
      },
      "execution_count": null,
      "outputs": [
        {
          "output_type": "execute_result",
          "data": {
            "text/plain": [
              "array([0, 1, 1, 1, 1], dtype=uint8)"
            ]
          },
          "metadata": {},
          "execution_count": 40
        }
      ]
    },
    {
      "cell_type": "markdown",
      "source": [
        "А чтобы еще легче обучать сетку поменяем масштаб изображений, сейчас они 28 на 28, сделаем меньше, чтобы нейросеть была легче."
      ],
      "metadata": {
        "id": "-oI0t1eC8UWb"
      }
    },
    {
      "cell_type": "code",
      "source": [
        "X_train[..., np.newaxis].shape"
      ],
      "metadata": {
        "colab": {
          "base_uri": "https://localhost:8080/"
        },
        "id": "XRbxRxLm9ERn",
        "outputId": "906ae29f-2072-46b9-f25a-0f50509c76c8"
      },
      "execution_count": null,
      "outputs": [
        {
          "output_type": "execute_result",
          "data": {
            "text/plain": [
              "(12665, 28, 28, 1)"
            ]
          },
          "metadata": {},
          "execution_count": 41
        }
      ]
    },
    {
      "cell_type": "code",
      "source": [
        "import matplotlib.pyplot as plt\n",
        "\n",
        "\n",
        "X_train_resized = tf.image.resize(X_train[..., np.newaxis], (6, 6))[..., 0]\n",
        "X_test_resized = tf.image.resize(X_test[..., np.newaxis], (6, 6))[..., 0]\n",
        "\n",
        "fig, ax = plt.subplots(1, 5, figsize=(15, 10))\n",
        "\n",
        "for i in range(5):\n",
        "    ax[i].imshow(X_train_resized[i], cmap='gray')\n",
        "    ax[i].axis('off')"
      ],
      "metadata": {
        "colab": {
          "base_uri": "https://localhost:8080/",
          "height": 237
        },
        "id": "2o6DgMm38KzZ",
        "outputId": "dec3125c-3530-4cb8-c29c-cb388a8a5c51"
      },
      "execution_count": null,
      "outputs": [
        {
          "output_type": "display_data",
          "data": {
            "text/plain": [
              "<Figure size 1500x1000 with 5 Axes>"
            ],
            "image/png": "[encoded data removed]"
          },
          "metadata": {}
        }
      ]
    },
    {
      "cell_type": "markdown",
      "source": [
        "Для того, что обучить нейронную сеть для любой задачи нужно ответить на три вопроса:\n",
        "1. Какая архитектура сети?\n",
        "2. Что оптимизируем?\n",
        "3. Как обучаем?"
      ],
      "metadata": {
        "id": "XxFhSXmjrLf7"
      }
    },
    {
      "cell_type": "markdown",
      "source": [
        "### Какая архитектура сети"
      ],
      "metadata": {
        "id": "tem4xXz_rLf7"
      }
    },
    {
      "cell_type": "markdown",
      "source": [
        "Создадим сеть еще сложнее.\n",
        "\n",
        "Во-первых, на вход поступает изображение 6х6, нужно с ним что-то сделать, так как наша сетку пока не умеет работать с двумерным входом. Здесь нам поможет слой из `keras` `Flatten`, который вытягивает изображение в один вектор, была картинка 6x6, а станет вектором с размерностью 36."
      ],
      "metadata": {
        "id": "EOWph2CPrLf7"
      }
    },
    {
      "cell_type": "markdown",
      "source": [
        "Была матрица:"
      ],
      "metadata": {
        "id": "S7zlRbu9BnCh"
      }
    },
    {
      "cell_type": "code",
      "source": [
        "X_train_resized[0].numpy()"
      ],
      "metadata": {
        "colab": {
          "base_uri": "https://localhost:8080/"
        },
        "id": "w8OGZXR0BlAq",
        "outputId": "41b8682e-55c5-4833-c91f-8a40af120646"
      },
      "execution_count": null,
      "outputs": [
        {
          "output_type": "execute_result",
          "data": {
            "text/plain": [
              "array([[0.        , 0.        , 0.        , 0.        , 0.        ,\n",
              "        0.        ],\n",
              "       [0.        , 0.        , 0.03594765, 0.9888889 , 0.42941174,\n",
              "        0.        ],\n",
              "       [0.        , 0.00228757, 0.7885626 , 0.        , 0.9901961 ,\n",
              "        0.        ],\n",
              "       [0.        , 0.65588236, 0.        , 0.        , 0.88235307,\n",
              "        0.        ],\n",
              "       [0.        , 0.66078436, 0.5088234 , 0.7235297 , 0.        ,\n",
              "        0.        ],\n",
              "       [0.        , 0.        , 0.        , 0.        , 0.        ,\n",
              "        0.        ]], dtype=float32)"
            ]
          },
          "metadata": {},
          "execution_count": 43
        }
      ]
    },
    {
      "cell_type": "code",
      "source": [
        "X_train_resized[0].numpy().shape"
      ],
      "metadata": {
        "colab": {
          "base_uri": "https://localhost:8080/"
        },
        "id": "XlAY7TcjBVCT",
        "outputId": "1bc2f783-c606-46c9-9cb2-44cad86e29d3"
      },
      "execution_count": null,
      "outputs": [
        {
          "output_type": "execute_result",
          "data": {
            "text/plain": [
              "(6, 6)"
            ]
          },
          "metadata": {},
          "execution_count": 44
        }
      ]
    },
    {
      "cell_type": "markdown",
      "source": [
        "А теперь вектор:"
      ],
      "metadata": {
        "id": "hx2lP21wBpGH"
      }
    },
    {
      "cell_type": "code",
      "source": [
        "X_train_resized[0].numpy().flatten()"
      ],
      "metadata": {
        "colab": {
          "base_uri": "https://localhost:8080/"
        },
        "id": "Sifs6oRaBmQI",
        "outputId": "50e97c34-67d1-4a58-e7ae-fba4ac457cd4"
      },
      "execution_count": null,
      "outputs": [
        {
          "output_type": "execute_result",
          "data": {
            "text/plain": [
              "array([0.        , 0.        , 0.        , 0.        , 0.        ,\n",
              "       0.        , 0.        , 0.        , 0.03594765, 0.9888889 ,\n",
              "       0.42941174, 0.        , 0.        , 0.00228757, 0.7885626 ,\n",
              "       0.        , 0.9901961 , 0.        , 0.        , 0.65588236,\n",
              "       0.        , 0.        , 0.88235307, 0.        , 0.        ,\n",
              "       0.66078436, 0.5088234 , 0.7235297 , 0.        , 0.        ,\n",
              "       0.        , 0.        , 0.        , 0.        , 0.        ,\n",
              "       0.        ], dtype=float32)"
            ]
          },
          "metadata": {},
          "execution_count": 45
        }
      ]
    },
    {
      "cell_type": "code",
      "source": [
        "X_train_resized[0].numpy().flatten().shape"
      ],
      "metadata": {
        "colab": {
          "base_uri": "https://localhost:8080/"
        },
        "id": "wT_mBILMBbKO",
        "outputId": "95840d3e-f173-4fed-df61-904df9adf2a3"
      },
      "execution_count": null,
      "outputs": [
        {
          "output_type": "execute_result",
          "data": {
            "text/plain": [
              "(36,)"
            ]
          },
          "metadata": {},
          "execution_count": 46
        }
      ]
    },
    {
      "cell_type": "markdown",
      "source": [
        "Во-вторых, на выходе не что-то одно, а две вероятности быть или не быть определенным классом.\n",
        "\n",
        "А значит на выходе имеем два нейрона, каждый из которых отвечает за класс."
      ],
      "metadata": {
        "id": "NX0Wjec0BUf0"
      }
    },
    {
      "cell_type": "markdown",
      "source": [
        "<img src='https://drive.google.com/uc?id=1BQbGhOqu8rgv25QbyHe6qljE-koEm103' width=500>"
      ],
      "metadata": {
        "id": "LxLqY_5NCHy9"
      }
    },
    {
      "cell_type": "markdown",
      "source": [
        "В-третьих, на выходном слое нужно использовать другую функцию активации, а именно sigmoid, так как она позволяет решать задачу бинарной классификации очень хорошо."
      ],
      "metadata": {
        "id": "UI2EmZawrLf8"
      }
    },
    {
      "cell_type": "code",
      "source": [
        "from keras.layers import Flatten\n",
        "tf.random.set_seed(9)\n",
        "\n",
        "model = Sequential([\n",
        "    Flatten(input_shape=(6, 6)),\n",
        "    Dense(2, activation='sigmoid')\n",
        "])\n",
        "\n",
        "model.summary()"
      ],
      "metadata": {
        "colab": {
          "base_uri": "https://localhost:8080/"
        },
        "outputId": "2cb03293-5d15-4311-e6e8-a2353b18cda3",
        "id": "heddDO5IrLf8"
      },
      "execution_count": null,
      "outputs": [
        {
          "output_type": "stream",
          "name": "stdout",
          "text": [
            "Model: \"sequential_4\"\n",
            "_________________________________________________________________\n",
            " Layer (type)                Output Shape              Param #   \n",
            "=================================================================\n",
            " flatten (Flatten)           (None, 36)                0         \n",
            "                                                                 \n",
            " dense_5 (Dense)             (None, 2)                 74        \n",
            "                                                                 \n",
            "=================================================================\n",
            "Total params: 74\n",
            "Trainable params: 74\n",
            "Non-trainable params: 0\n",
            "_________________________________________________________________\n"
          ]
        }
      ]
    },
    {
      "cell_type": "markdown",
      "source": [
        "Считаем количество весов.\n",
        "\n",
        "Для одного нейрона - 36 входов, плюс 1 bias. Для второго нейрона тоже самое.\n",
        "\n",
        "А значит, (36 + 1) * 2 = 74 настраиваемых весов."
      ],
      "metadata": {
        "id": "0BKwDdZ4rLf9"
      }
    },
    {
      "cell_type": "markdown",
      "source": [
        "### Что оптимизируем\n",
        "\n",
        "У нас задача бинарной классификации, поэтому берем функцию потерь, которая подходит сюда.\n",
        "\n",
        "Это к примеру, бинарная кросс-энтропия.\n",
        "\n",
        "А еще будем считать метрику классификации accuracy."
      ],
      "metadata": {
        "id": "3-83o1dhrLf9"
      }
    },
    {
      "cell_type": "markdown",
      "source": [
        "### Как оптимизируем\n",
        "\n",
        "Возьмем тот же самый градиентный спуск со стохастикой."
      ],
      "metadata": {
        "id": "RCpfxN4krLf-"
      }
    },
    {
      "cell_type": "code",
      "source": [
        "model.compile(optimizer='sgd', loss='binary_crossentropy', metrics='accuracy')"
      ],
      "metadata": {
        "id": "aew4ofQSrLf-"
      },
      "execution_count": null,
      "outputs": []
    },
    {
      "cell_type": "code",
      "source": [
        "%%time\n",
        "model.fit(X_train_resized, y_train_cat, epochs=5)"
      ],
      "metadata": {
        "colab": {
          "base_uri": "https://localhost:8080/"
        },
        "outputId": "03670e0a-d442-429a-d258-81372609186c",
        "id": "WBzBYAchrLf-"
      },
      "execution_count": null,
      "outputs": [
        {
          "output_type": "stream",
          "name": "stdout",
          "text": [
            "Epoch 1/5\n",
            "396/396 [==============================] - 1s 2ms/step - loss: 0.6331 - accuracy: 0.7997\n",
            "Epoch 2/5\n",
            "396/396 [==============================] - 1s 2ms/step - loss: 0.4714 - accuracy: 0.9512\n",
            "Epoch 3/5\n",
            "396/396 [==============================] - 1s 1ms/step - loss: 0.3865 - accuracy: 0.9619\n",
            "Epoch 4/5\n",
            "396/396 [==============================] - 1s 2ms/step - loss: 0.3310 - accuracy: 0.9688\n",
            "Epoch 5/5\n",
            "396/396 [==============================] - 1s 2ms/step - loss: 0.2919 - accuracy: 0.9714\n",
            "CPU times: user 3.71 s, sys: 219 ms, total: 3.93 s\n",
            "Wall time: 5.59 s\n"
          ]
        },
        {
          "output_type": "execute_result",
          "data": {
            "text/plain": [
              "<keras.callbacks.History at 0x7f1660c2ce20>"
            ]
          },
          "metadata": {},
          "execution_count": 47
        }
      ]
    },
    {
      "cell_type": "markdown",
      "source": [
        "Сеть обучается, ошибка падает, метрика становится лучше, всё замечательно.\n",
        "\n",
        "Теперь проверим, а как модель работает на новых данных."
      ],
      "metadata": {
        "id": "9kX47CoHrLf_"
      }
    },
    {
      "cell_type": "markdown",
      "source": [
        "На выходе модель дает 2 вероятности:\n",
        "1. Быть нулевым классом\n",
        "2. Быть первым классом\n",
        "\n",
        "Для выбранного объекта вероятность быть первым классом гораздо выше, чем вероятность быть нулевым классом."
      ],
      "metadata": {
        "id": "-yMPaO0i92Da"
      }
    },
    {
      "cell_type": "code",
      "source": [
        "print(\"Предсказание нейронной сети: \")\n",
        "pred = model.predict(X_test_resized[:1])\n",
        "pred"
      ],
      "metadata": {
        "colab": {
          "base_uri": "https://localhost:8080/"
        },
        "outputId": "58c07c69-7a06-4dde-dcd0-7029af1f579d",
        "id": "kj_cxee_rLf_"
      },
      "execution_count": null,
      "outputs": [
        {
          "output_type": "stream",
          "name": "stdout",
          "text": [
            "Предсказание нейронной сети: \n",
            "1/1 [==============================] - 0s 58ms/step\n"
          ]
        },
        {
          "output_type": "execute_result",
          "data": {
            "text/plain": [
              "array([[0.22289592, 0.78061795]], dtype=float32)"
            ]
          },
          "metadata": {},
          "execution_count": 48
        }
      ]
    },
    {
      "cell_type": "markdown",
      "source": [
        "Для того, чтобы выдать финальную метку класса можем взять класс, где максимальная предсказанная вероятность."
      ],
      "metadata": {
        "id": "m6depfQz_KBL"
      }
    },
    {
      "cell_type": "code",
      "source": [
        "pred_cls = pred.argmax()\n",
        "pred_cls"
      ],
      "metadata": {
        "colab": {
          "base_uri": "https://localhost:8080/"
        },
        "id": "NHyfsh00-8yg",
        "outputId": "701ae530-c98a-404e-de07-c52d643124c1"
      },
      "execution_count": null,
      "outputs": [
        {
          "output_type": "execute_result",
          "data": {
            "text/plain": [
              "1"
            ]
          },
          "metadata": {},
          "execution_count": 49
        }
      ]
    },
    {
      "cell_type": "markdown",
      "source": [
        "Давайте проверим предсказание визуально."
      ],
      "metadata": {
        "id": "mOP-ZZh5_Q0h"
      }
    },
    {
      "cell_type": "code",
      "source": [
        "idx = 0\n",
        "plt.imshow(X_test_resized[idx])\n",
        "plt.title(f'pred {pred_cls}, true {y_test[idx]}');"
      ],
      "metadata": {
        "colab": {
          "base_uri": "https://localhost:8080/",
          "height": 452
        },
        "id": "LlYYEi7S-Wb9",
        "outputId": "465775f4-bc18-40cc-80e3-e60012100929"
      },
      "execution_count": null,
      "outputs": [
        {
          "output_type": "display_data",
          "data": {
            "text/plain": [
              "<Figure size 640x480 with 1 Axes>"
            ],
            "image/png": "[encoded data removed]"
          },
          "metadata": {}
        }
      ]
    },
    {
      "cell_type": "markdown",
      "source": [
        "А это как выглядило изображение до изменения размера."
      ],
      "metadata": {
        "id": "j0rlw4pc_T8Z"
      }
    },
    {
      "cell_type": "code",
      "source": [
        "plt.imshow(X_test[idx])\n",
        "plt.title(f'pred {pred_cls}, true {y_test[idx]}');"
      ],
      "metadata": {
        "colab": {
          "base_uri": "https://localhost:8080/",
          "height": 452
        },
        "id": "UM2mFmAZ-1QP",
        "outputId": "a33a2d2b-7c10-4e09-c772-087e3f2c08ba"
      },
      "execution_count": null,
      "outputs": [
        {
          "output_type": "display_data",
          "data": {
            "text/plain": [
              "<Figure size 640x480 with 1 Axes>"
            ],
            "image/png": "[encoded data removed]"
          },
          "metadata": {}
        }
      ]
    },
    {
      "cell_type": "markdown",
      "source": [
        "И проверимся на всех обучающих данных.\n",
        "\n",
        "Делаем предсказания на всех тестовых объектах."
      ],
      "metadata": {
        "id": "1c9VSeXarLf_"
      }
    },
    {
      "cell_type": "code",
      "source": [
        "preds = model.predict(X_test_resized)\n",
        "preds"
      ],
      "metadata": {
        "colab": {
          "base_uri": "https://localhost:8080/"
        },
        "outputId": "aa4a15d2-8996-499a-db41-47a50ebc27f2",
        "id": "HTPb3vKQrLf_"
      },
      "execution_count": null,
      "outputs": [
        {
          "output_type": "stream",
          "name": "stdout",
          "text": [
            "67/67 [==============================] - 0s 1ms/step\n"
          ]
        },
        {
          "output_type": "execute_result",
          "data": {
            "text/plain": [
              "array([[0.49978763, 0.49966913],\n",
              "       [0.43051678, 0.5181618 ],\n",
              "       [0.4971997 , 0.5067955 ],\n",
              "       ...,\n",
              "       [0.40381426, 0.51203495],\n",
              "       [0.3146164 , 0.59405106],\n",
              "       [0.52698284, 0.5067771 ]], dtype=float32)"
            ]
          },
          "metadata": {},
          "execution_count": 49
        }
      ]
    },
    {
      "cell_type": "markdown",
      "source": [
        "И берем метку класса, где максимальная вероятность."
      ],
      "metadata": {
        "id": "thIA48Kd_l5I"
      }
    },
    {
      "cell_type": "code",
      "source": [
        "preds_cls = preds.argmax(axis=1)\n",
        "preds_cls"
      ],
      "metadata": {
        "id": "mhO5qjCJhiH_",
        "colab": {
          "base_uri": "https://localhost:8080/"
        },
        "outputId": "bf804b96-0f13-408d-c83d-4ebb8b05be5f"
      },
      "execution_count": null,
      "outputs": [
        {
          "output_type": "execute_result",
          "data": {
            "text/plain": [
              "array([1, 0, 1, ..., 1, 0, 1])"
            ]
          },
          "metadata": {},
          "execution_count": 53
        }
      ]
    },
    {
      "cell_type": "markdown",
      "source": [
        "И можем посчитать метрику качества."
      ],
      "metadata": {
        "id": "dVhR-hXg_yWN"
      }
    },
    {
      "cell_type": "code",
      "source": [
        "from sklearn.metrics import accuracy_score\n",
        "\n",
        "print(f'test acc: {accuracy_score(y_test, preds_cls)*100:.2f}% ({(y_test == preds_cls).sum()} out of {y_test.shape[0]})')"
      ],
      "metadata": {
        "colab": {
          "base_uri": "https://localhost:8080/"
        },
        "id": "luDjwHTj_3_M",
        "outputId": "1f884392-aa61-48ee-88a4-edd23258862f"
      },
      "execution_count": null,
      "outputs": [
        {
          "output_type": "stream",
          "name": "stdout",
          "text": [
            "test acc: 98.01% (2073 out of 2115)\n"
          ]
        }
      ]
    },
    {
      "cell_type": "markdown",
      "source": [
        "Вот так вот мы и обучили сетку на задачу классификации.\n",
        "\n",
        "А на самом деле уже обучили целых три нейронных сети за одно занятие."
      ],
      "metadata": {
        "id": "symBokEiFukt"
      }
    },
    {
      "cell_type": "markdown",
      "source": [],
      "metadata": {
        "id": "NizN0jCYQojn"
      }
    },
    {
      "cell_type": "markdown",
      "source": [
        "## Summary\n",
        "\n",
        "\n",
        "Вот мы и разобрались, как обучается нейронная сеть с помощью `keras`.\n"
      ],
      "metadata": {
        "id": "cKL1g6ILJiNk"
      }
    },
    {
      "cell_type": "markdown",
      "source": [
        "\n",
        "\n",
        "1. Получаем выборку для обучения\n",
        "    - масштабирование данных (*MinMaxScaler, StandardScaler, /255.0*)\n",
        "    - Resize данных при необходимости\n",
        "    - Для классификации нужно перевести метки классов в бинарное представление  "
      ],
      "metadata": {
        "id": "jldOYbCAMv9o"
      }
    },
    {
      "cell_type": "markdown",
      "source": [
        "\n",
        "\n",
        "2. Создаем архитектуру\n",
        "    - выбираем количество входов\n",
        "    - выбираем количество слоев\n",
        "    - выбираем количество выходных нейронов\n",
        "    - выбираем функцию активации"
      ],
      "metadata": {
        "id": "niS1K8UPMx8L"
      }
    },
    {
      "cell_type": "markdown",
      "source": [
        "\n",
        "\n",
        "3. Что нужно оптимизировать\n",
        "    - выбор функции потерь\n",
        "    - из стандартных и привычных\n",
        "        - для регрессии - *MSE*\n",
        "        - для классификации - *binary_crossentropy, categorical_crossentropy*\n",
        "4. Как нужно оптимизировать\n",
        "    - выбор оптимизатора\n",
        "    - из стандартных и привычных: *sgd, adam*\n"
      ],
      "metadata": {
        "id": "kNEHLHYjNDtZ"
      }
    },
    {
      "cell_type": "markdown",
      "source": [
        "\n",
        "\n",
        "5. Компиляция модели *.compile()*\n"
      ],
      "metadata": {
        "id": "sSXSMryMNHyS"
      }
    },
    {
      "cell_type": "markdown",
      "source": [
        "6. Обучение модели *.fit()*"
      ],
      "metadata": {
        "id": "GlzmUPbLNJHB"
      }
    },
    {
      "cell_type": "markdown",
      "source": [
        "\n",
        "\n",
        "7. Проверка результатов"
      ],
      "metadata": {
        "id": "wbynQKEXNKF1"
      }
    }
  ]
}